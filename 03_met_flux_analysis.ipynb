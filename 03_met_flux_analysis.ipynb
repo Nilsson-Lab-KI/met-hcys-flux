{
 "cells": [
  {
   "cell_type": "markdown",
   "id": "4852a0e8-c791-40a0-8c9d-7d509b8ce9a6",
   "metadata": {},
   "source": [
    "# Flux analysis, methionine tracing"
   ]
  },
  {
   "cell_type": "code",
   "execution_count": 1,
   "id": "9357ca72-c572-4402-9292-2b1a8d4d956a",
   "metadata": {},
   "outputs": [],
   "source": [
    "from collections import defaultdict\n",
    "import matplotlib\n",
    "import matplotlib.pyplot as plt\n",
    "import numpy as np\n",
    "import pandas as pd\n",
    "from pathlib import Path\n",
    "import seaborn as sns\n",
    "from scipy.stats import norm"
   ]
  },
  {
   "cell_type": "code",
   "execution_count": 2,
   "id": "f245e422-aab5-4aa5-a9cd-56c5830f4c01",
   "metadata": {},
   "outputs": [],
   "source": [
    "from common import *"
   ]
  },
  {
   "cell_type": "code",
   "execution_count": 3,
   "id": "1c01e199-71e0-4dfd-92e4-1021dd1f3b8d",
   "metadata": {},
   "outputs": [],
   "source": [
    "from simpleflux.model import FluxModel, FluxState\n",
    "from simpleflux.modelstate import ModelState\n",
    "from simpleflux.fitting import ModelFit"
   ]
  },
  {
   "cell_type": "markdown",
   "id": "1daee94a-7021-4071-918d-f41598283197",
   "metadata": {
    "jp-MarkdownHeadingCollapsed": true
   },
   "source": [
    "## Define model"
   ]
  },
  {
   "cell_type": "markdown",
   "id": "63df7f43-6b50-456c-97e8-2f0e80d88677",
   "metadata": {},
   "source": [
    "### Stoichiometry"
   ]
  },
  {
   "cell_type": "code",
   "execution_count": 4,
   "id": "eebbb54f-9068-42c1-9bf7-d9424194035e",
   "metadata": {},
   "outputs": [],
   "source": [
    "stoichiometry = defaultdict(int, {\n",
    "    ('MET_IN', 'met'): 1,\n",
    "    ('PROT_SYNTH', 'met'): -1, ('PROT_SYNTH', 'metp'): 1, \n",
    "    ('AHCY', 'sah'): -1, ('AHCY', 'hcys'): 1, \n",
    "    ('METS', 'hcys'): -1, ('METS', 'met'): 1, \n",
    "    ('MAT', 'met'): -1, ('MAT', 'sam'): 1, \n",
    "    ('SAM_METH', 'sam'): -1, ('SAM_METH', 'sah'): 1, \n",
    "    ('CYSTS', 'hcys'): -1, ('CYSTS', 'cyst'): 1,\n",
    "    ('CYSTL', 'cyst'): -1, ('CYSTL', 'akb'): 1,\n",
    "    ('HCYS_OUT', 'hcys'): -1,\n",
    "    ('PROT_OUT', 'metp'): -1,\n",
    "    ('AKB_OUT', 'akb'): -1,\n",
    "})\n",
    "\n",
    "reversible_reactions = [\n",
    "    'MET_IN',\n",
    "    'PROT_SYNTH',\n",
    "    'AHCY',\n",
    "    'CYSTL',\n",
    "]\n",
    "\n",
    "free_reactions = ['CYSTS', 'METS', 'PROT_OUT', 'SAM_METH']\n",
    "\n",
    "flux_model = FluxModel(stoichiometry, reversible_reactions, free_reactions)"
   ]
  },
  {
   "cell_type": "code",
   "execution_count": 5,
   "id": "49801b5b-40e6-4410-9e61-6ef338566860",
   "metadata": {},
   "outputs": [
    {
     "data": {
      "text/html": [
       "<div>\n",
       "<style scoped>\n",
       "    .dataframe tbody tr th:only-of-type {\n",
       "        vertical-align: middle;\n",
       "    }\n",
       "\n",
       "    .dataframe tbody tr th {\n",
       "        vertical-align: top;\n",
       "    }\n",
       "\n",
       "    .dataframe thead th {\n",
       "        text-align: right;\n",
       "    }\n",
       "</style>\n",
       "<table border=\"1\" class=\"dataframe\">\n",
       "  <thead>\n",
       "    <tr style=\"text-align: right;\">\n",
       "      <th></th>\n",
       "      <th>AHCY</th>\n",
       "      <th>AKB_OUT</th>\n",
       "      <th>CYSTL</th>\n",
       "      <th>CYSTS</th>\n",
       "      <th>HCYS_OUT</th>\n",
       "      <th>MAT</th>\n",
       "      <th>METS</th>\n",
       "      <th>MET_IN</th>\n",
       "      <th>PROT_OUT</th>\n",
       "      <th>PROT_SYNTH</th>\n",
       "      <th>SAM_METH</th>\n",
       "    </tr>\n",
       "  </thead>\n",
       "  <tbody>\n",
       "    <tr>\n",
       "      <th>akb</th>\n",
       "      <td>0</td>\n",
       "      <td>-1</td>\n",
       "      <td>1</td>\n",
       "      <td>0</td>\n",
       "      <td>0</td>\n",
       "      <td>0</td>\n",
       "      <td>0</td>\n",
       "      <td>0</td>\n",
       "      <td>0</td>\n",
       "      <td>0</td>\n",
       "      <td>0</td>\n",
       "    </tr>\n",
       "    <tr>\n",
       "      <th>cyst</th>\n",
       "      <td>0</td>\n",
       "      <td>0</td>\n",
       "      <td>-1</td>\n",
       "      <td>1</td>\n",
       "      <td>0</td>\n",
       "      <td>0</td>\n",
       "      <td>0</td>\n",
       "      <td>0</td>\n",
       "      <td>0</td>\n",
       "      <td>0</td>\n",
       "      <td>0</td>\n",
       "    </tr>\n",
       "    <tr>\n",
       "      <th>hcys</th>\n",
       "      <td>1</td>\n",
       "      <td>0</td>\n",
       "      <td>0</td>\n",
       "      <td>-1</td>\n",
       "      <td>-1</td>\n",
       "      <td>0</td>\n",
       "      <td>-1</td>\n",
       "      <td>0</td>\n",
       "      <td>0</td>\n",
       "      <td>0</td>\n",
       "      <td>0</td>\n",
       "    </tr>\n",
       "    <tr>\n",
       "      <th>met</th>\n",
       "      <td>0</td>\n",
       "      <td>0</td>\n",
       "      <td>0</td>\n",
       "      <td>0</td>\n",
       "      <td>0</td>\n",
       "      <td>-1</td>\n",
       "      <td>1</td>\n",
       "      <td>1</td>\n",
       "      <td>0</td>\n",
       "      <td>-1</td>\n",
       "      <td>0</td>\n",
       "    </tr>\n",
       "    <tr>\n",
       "      <th>metp</th>\n",
       "      <td>0</td>\n",
       "      <td>0</td>\n",
       "      <td>0</td>\n",
       "      <td>0</td>\n",
       "      <td>0</td>\n",
       "      <td>0</td>\n",
       "      <td>0</td>\n",
       "      <td>0</td>\n",
       "      <td>-1</td>\n",
       "      <td>1</td>\n",
       "      <td>0</td>\n",
       "    </tr>\n",
       "    <tr>\n",
       "      <th>sah</th>\n",
       "      <td>-1</td>\n",
       "      <td>0</td>\n",
       "      <td>0</td>\n",
       "      <td>0</td>\n",
       "      <td>0</td>\n",
       "      <td>0</td>\n",
       "      <td>0</td>\n",
       "      <td>0</td>\n",
       "      <td>0</td>\n",
       "      <td>0</td>\n",
       "      <td>1</td>\n",
       "    </tr>\n",
       "    <tr>\n",
       "      <th>sam</th>\n",
       "      <td>0</td>\n",
       "      <td>0</td>\n",
       "      <td>0</td>\n",
       "      <td>0</td>\n",
       "      <td>0</td>\n",
       "      <td>1</td>\n",
       "      <td>0</td>\n",
       "      <td>0</td>\n",
       "      <td>0</td>\n",
       "      <td>0</td>\n",
       "      <td>-1</td>\n",
       "    </tr>\n",
       "  </tbody>\n",
       "</table>\n",
       "</div>"
      ],
      "text/plain": [
       "      AHCY  AKB_OUT  CYSTL  CYSTS  HCYS_OUT  MAT  METS  MET_IN  PROT_OUT  \\\n",
       "akb      0       -1      1      0         0    0     0       0         0   \n",
       "cyst     0        0     -1      1         0    0     0       0         0   \n",
       "hcys     1        0      0     -1        -1    0    -1       0         0   \n",
       "met      0        0      0      0         0   -1     1       1         0   \n",
       "metp     0        0      0      0         0    0     0       0        -1   \n",
       "sah     -1        0      0      0         0    0     0       0         0   \n",
       "sam      0        0      0      0         0    1     0       0         0   \n",
       "\n",
       "      PROT_SYNTH  SAM_METH  \n",
       "akb            0         0  \n",
       "cyst           0         0  \n",
       "hcys           0         0  \n",
       "met           -1         0  \n",
       "metp           1         0  \n",
       "sah            0         1  \n",
       "sam            0        -1  "
      ]
     },
     "execution_count": 5,
     "metadata": {},
     "output_type": "execute_result"
    }
   ],
   "source": [
    "flux_model.get_stoichiometry_df()"
   ]
  },
  {
   "cell_type": "markdown",
   "id": "dfcb8a27-532f-42e4-a748-20cc30ec12e0",
   "metadata": {
    "tags": []
   },
   "source": [
    "## U-13C-methionine tracing"
   ]
  },
  {
   "cell_type": "markdown",
   "id": "53b8d0ce-6e6b-4df4-8026-ef1dbdf44881",
   "metadata": {
    "jp-MarkdownHeadingCollapsed": true
   },
   "source": [
    "### Pool sizes"
   ]
  },
  {
   "cell_type": "markdown",
   "id": "f1e25934-4fc8-47fe-aa8c-4ac4c16e9c43",
   "metadata": {},
   "source": [
    "Estimated intracellular concentrations in M"
   ]
  },
  {
   "cell_type": "code",
   "execution_count": 73,
   "id": "55082e10-a3fd-473f-9f7d-720778866e5a",
   "metadata": {},
   "outputs": [
    {
     "data": {
      "text/html": [
       "<div>\n",
       "<style scoped>\n",
       "    .dataframe tbody tr th:only-of-type {\n",
       "        vertical-align: middle;\n",
       "    }\n",
       "\n",
       "    .dataframe tbody tr th {\n",
       "        vertical-align: top;\n",
       "    }\n",
       "\n",
       "    .dataframe thead th {\n",
       "        text-align: right;\n",
       "    }\n",
       "</style>\n",
       "<table border=\"1\" class=\"dataframe\">\n",
       "  <thead>\n",
       "    <tr style=\"text-align: right;\">\n",
       "      <th></th>\n",
       "      <th></th>\n",
       "      <th>mean</th>\n",
       "      <th>std_dev</th>\n",
       "    </tr>\n",
       "    <tr>\n",
       "      <th>cell_type</th>\n",
       "      <th>metabolite</th>\n",
       "      <th></th>\n",
       "      <th></th>\n",
       "    </tr>\n",
       "  </thead>\n",
       "  <tbody>\n",
       "    <tr>\n",
       "      <th rowspan=\"5\" valign=\"top\">BJ-RAS</th>\n",
       "      <th>cyst</th>\n",
       "      <td>0.000007</td>\n",
       "      <td>1.743951e-07</td>\n",
       "    </tr>\n",
       "    <tr>\n",
       "      <th>hcys</th>\n",
       "      <td>NaN</td>\n",
       "      <td>NaN</td>\n",
       "    </tr>\n",
       "    <tr>\n",
       "      <th>met</th>\n",
       "      <td>0.000460</td>\n",
       "      <td>4.799366e-05</td>\n",
       "    </tr>\n",
       "    <tr>\n",
       "      <th>sah</th>\n",
       "      <td>0.000002</td>\n",
       "      <td>5.059560e-08</td>\n",
       "    </tr>\n",
       "    <tr>\n",
       "      <th>sam</th>\n",
       "      <td>0.000119</td>\n",
       "      <td>1.647431e-05</td>\n",
       "    </tr>\n",
       "    <tr>\n",
       "      <th rowspan=\"5\" valign=\"top\">BJ-TERT</th>\n",
       "      <th>cyst</th>\n",
       "      <td>0.000014</td>\n",
       "      <td>7.452021e-07</td>\n",
       "    </tr>\n",
       "    <tr>\n",
       "      <th>hcys</th>\n",
       "      <td>NaN</td>\n",
       "      <td>NaN</td>\n",
       "    </tr>\n",
       "    <tr>\n",
       "      <th>met</th>\n",
       "      <td>0.000614</td>\n",
       "      <td>5.605816e-06</td>\n",
       "    </tr>\n",
       "    <tr>\n",
       "      <th>sah</th>\n",
       "      <td>0.000002</td>\n",
       "      <td>6.068686e-08</td>\n",
       "    </tr>\n",
       "    <tr>\n",
       "      <th>sam</th>\n",
       "      <td>0.000060</td>\n",
       "      <td>5.648588e-06</td>\n",
       "    </tr>\n",
       "  </tbody>\n",
       "</table>\n",
       "</div>"
      ],
      "text/plain": [
       "                          mean       std_dev\n",
       "cell_type metabolite                        \n",
       "BJ-RAS    cyst        0.000007  1.743951e-07\n",
       "          hcys             NaN           NaN\n",
       "          met         0.000460  4.799366e-05\n",
       "          sah         0.000002  5.059560e-08\n",
       "          sam         0.000119  1.647431e-05\n",
       "BJ-TERT   cyst        0.000014  7.452021e-07\n",
       "          hcys             NaN           NaN\n",
       "          met         0.000614  5.605816e-06\n",
       "          sah         0.000002  6.068686e-08\n",
       "          sam         0.000060  5.648588e-06"
      ]
     },
     "execution_count": 73,
     "metadata": {},
     "output_type": "execute_result"
    }
   ],
   "source": [
    "estimated_conc = pd.read_csv(derived_data_path / '13C-met_cell_concentrations.csv', index_col=[0, 1], header=[0,1])\\\n",
    "    .reorder_levels(['cell_type', 'metabolite'])\\\n",
    "    .sort_index()\n",
    "estimated_conc.columns = ['mean', 'std_dev']\n",
    "estimated_conc"
   ]
  },
  {
   "cell_type": "code",
   "execution_count": 74,
   "id": "fc9c9cca-9487-4d40-b444-7fbe686cb9fb",
   "metadata": {},
   "outputs": [],
   "source": [
    "additional_conc = pd.DataFrame(\n",
    "    [\n",
    "        (23500, 2350),\n",
    "        (23500, 2350),\n",
    "        (1000, 1000),\n",
    "        (1000, 1000),                \n",
    "    ],\n",
    "    columns=['mean', 'std_dev'],\n",
    "    index=pd.MultiIndex.from_tuples(\n",
    "        [\n",
    "            ('BJ-TERT', 'metp'),\n",
    "            ('BJ-RAS', 'metp'),\n",
    "            ('BJ-TERT', 'akb'),\n",
    "            ('BJ-RAS', 'akb'),\n",
    "        ],\n",
    "        names=['cell_type', 'metabolite']\n",
    "    )\n",
    ")"
   ]
  },
  {
   "cell_type": "code",
   "execution_count": 77,
   "id": "147d320e-204f-459f-aea3-a2e7dc1a7631",
   "metadata": {},
   "outputs": [
    {
     "data": {
      "text/html": [
       "<div>\n",
       "<style scoped>\n",
       "    .dataframe tbody tr th:only-of-type {\n",
       "        vertical-align: middle;\n",
       "    }\n",
       "\n",
       "    .dataframe tbody tr th {\n",
       "        vertical-align: top;\n",
       "    }\n",
       "\n",
       "    .dataframe thead th {\n",
       "        text-align: right;\n",
       "    }\n",
       "</style>\n",
       "<table border=\"1\" class=\"dataframe\">\n",
       "  <thead>\n",
       "    <tr style=\"text-align: right;\">\n",
       "      <th></th>\n",
       "      <th></th>\n",
       "      <th>mean</th>\n",
       "      <th>std_dev</th>\n",
       "    </tr>\n",
       "    <tr>\n",
       "      <th>cell_type</th>\n",
       "      <th>metabolite</th>\n",
       "      <th></th>\n",
       "      <th></th>\n",
       "    </tr>\n",
       "  </thead>\n",
       "  <tbody>\n",
       "    <tr>\n",
       "      <th rowspan=\"7\" valign=\"top\">BJ-TERT</th>\n",
       "      <th>akb</th>\n",
       "      <td>1000.000000</td>\n",
       "      <td>1000.000000</td>\n",
       "    </tr>\n",
       "    <tr>\n",
       "      <th>cyst</th>\n",
       "      <td>13.563339</td>\n",
       "      <td>0.745202</td>\n",
       "    </tr>\n",
       "    <tr>\n",
       "      <th>hcys</th>\n",
       "      <td>10.000000</td>\n",
       "      <td>10.000000</td>\n",
       "    </tr>\n",
       "    <tr>\n",
       "      <th>met</th>\n",
       "      <td>614.406238</td>\n",
       "      <td>5.605816</td>\n",
       "    </tr>\n",
       "    <tr>\n",
       "      <th>metp</th>\n",
       "      <td>23500.000000</td>\n",
       "      <td>2350.000000</td>\n",
       "    </tr>\n",
       "    <tr>\n",
       "      <th>sah</th>\n",
       "      <td>2.117662</td>\n",
       "      <td>0.060687</td>\n",
       "    </tr>\n",
       "    <tr>\n",
       "      <th>sam</th>\n",
       "      <td>60.098744</td>\n",
       "      <td>5.648588</td>\n",
       "    </tr>\n",
       "    <tr>\n",
       "      <th rowspan=\"7\" valign=\"top\">BJ-RAS</th>\n",
       "      <th>akb</th>\n",
       "      <td>1000.000000</td>\n",
       "      <td>1000.000000</td>\n",
       "    </tr>\n",
       "    <tr>\n",
       "      <th>cyst</th>\n",
       "      <td>6.835207</td>\n",
       "      <td>0.174395</td>\n",
       "    </tr>\n",
       "    <tr>\n",
       "      <th>hcys</th>\n",
       "      <td>10.000000</td>\n",
       "      <td>10.000000</td>\n",
       "    </tr>\n",
       "    <tr>\n",
       "      <th>met</th>\n",
       "      <td>459.569294</td>\n",
       "      <td>47.993657</td>\n",
       "    </tr>\n",
       "    <tr>\n",
       "      <th>metp</th>\n",
       "      <td>23500.000000</td>\n",
       "      <td>2350.000000</td>\n",
       "    </tr>\n",
       "    <tr>\n",
       "      <th>sah</th>\n",
       "      <td>1.824155</td>\n",
       "      <td>0.050596</td>\n",
       "    </tr>\n",
       "    <tr>\n",
       "      <th>sam</th>\n",
       "      <td>119.244868</td>\n",
       "      <td>16.474311</td>\n",
       "    </tr>\n",
       "  </tbody>\n",
       "</table>\n",
       "</div>"
      ],
      "text/plain": [
       "                              mean      std_dev\n",
       "cell_type metabolite                           \n",
       "BJ-TERT   akb          1000.000000  1000.000000\n",
       "          cyst           13.563339     0.745202\n",
       "          hcys           10.000000    10.000000\n",
       "          met           614.406238     5.605816\n",
       "          metp        23500.000000  2350.000000\n",
       "          sah             2.117662     0.060687\n",
       "          sam            60.098744     5.648588\n",
       "BJ-RAS    akb          1000.000000  1000.000000\n",
       "          cyst            6.835207     0.174395\n",
       "          hcys           10.000000    10.000000\n",
       "          met           459.569294    47.993657\n",
       "          metp        23500.000000  2350.000000\n",
       "          sah             1.824155     0.050596\n",
       "          sam           119.244868    16.474311"
      ]
     },
     "execution_count": 77,
     "metadata": {},
     "output_type": "execute_result"
    }
   ],
   "source": [
    "pool_size_data = pd.concat([estimated_conc * 1e6, additional_conc])\\\n",
    "    .sort_index(ascending=[False, True])\n",
    "# impute hcys value to low uM range, high uncertainty\n",
    "pool_size_data.loc[('BJ-TERT', 'hcys')] = (10., 10.)\n",
    "pool_size_data.loc[('BJ-RAS', 'hcys')] = (10., 10.)\n",
    "pool_size_data"
   ]
  },
  {
   "cell_type": "markdown",
   "id": "ce99c430-0a21-4dae-8c34-56caf770e91f",
   "metadata": {
    "jp-MarkdownHeadingCollapsed": true
   },
   "source": [
    "### Measured fluxes"
   ]
  },
  {
   "cell_type": "markdown",
   "id": "7f1989a2-6028-49ad-917a-8e9286ff23aa",
   "metadata": {},
   "source": [
    "Measured fluxes (pmol / h * uL cells = uM / h)."
   ]
  },
  {
   "cell_type": "code",
   "execution_count": 43,
   "id": "a5fe7ef5-c358-4ceb-9fee-aea6ada7ec41",
   "metadata": {},
   "outputs": [
    {
     "data": {
      "text/html": [
       "<div>\n",
       "<style scoped>\n",
       "    .dataframe tbody tr th:only-of-type {\n",
       "        vertical-align: middle;\n",
       "    }\n",
       "\n",
       "    .dataframe tbody tr th {\n",
       "        vertical-align: top;\n",
       "    }\n",
       "\n",
       "    .dataframe thead th {\n",
       "        text-align: right;\n",
       "    }\n",
       "</style>\n",
       "<table border=\"1\" class=\"dataframe\">\n",
       "  <thead>\n",
       "    <tr style=\"text-align: right;\">\n",
       "      <th></th>\n",
       "      <th></th>\n",
       "      <th>mean</th>\n",
       "      <th>std</th>\n",
       "    </tr>\n",
       "    <tr>\n",
       "      <th>metabolite</th>\n",
       "      <th>cell_type</th>\n",
       "      <th></th>\n",
       "      <th></th>\n",
       "    </tr>\n",
       "  </thead>\n",
       "  <tbody>\n",
       "    <tr>\n",
       "      <th rowspan=\"2\" valign=\"top\">hcys</th>\n",
       "      <th>BJ-RAS</th>\n",
       "      <td>132.345215</td>\n",
       "      <td>4.564224</td>\n",
       "    </tr>\n",
       "    <tr>\n",
       "      <th>BJ-TERT</th>\n",
       "      <td>149.416400</td>\n",
       "      <td>29.883280</td>\n",
       "    </tr>\n",
       "    <tr>\n",
       "      <th rowspan=\"2\" valign=\"top\">met</th>\n",
       "      <th>BJ-RAS</th>\n",
       "      <td>-917.086274</td>\n",
       "      <td>115.296601</td>\n",
       "    </tr>\n",
       "    <tr>\n",
       "      <th>BJ-TERT</th>\n",
       "      <td>400.549835</td>\n",
       "      <td>80.109967</td>\n",
       "    </tr>\n",
       "  </tbody>\n",
       "</table>\n",
       "</div>"
      ],
      "text/plain": [
       "                            mean         std\n",
       "metabolite cell_type                        \n",
       "hcys       BJ-RAS     132.345215    4.564224\n",
       "           BJ-TERT    149.416400   29.883280\n",
       "met        BJ-RAS    -917.086274  115.296601\n",
       "           BJ-TERT    400.549835   80.109967"
      ]
     },
     "execution_count": 43,
     "metadata": {},
     "output_type": "execute_result"
    }
   ],
   "source": [
    "release_fluxes = pd.read_csv(derived_data_path / '13C-met_release_flux.csv', index_col=[0, 1], header=[0,1])\n",
    "release_fluxes.columns = release_fluxes.columns.droplevel(0)\n",
    "# impute 20% relative error for the BJ-TERT cell type, as there were no replicates\n",
    "release_fluxes.loc[('hcys', 'BJ-TERT'), 'std'] = release_fluxes.loc[('hcys', 'BJ-TERT'), 'mean'] * 0.2\n",
    "release_fluxes.loc[('met', 'BJ-TERT'), 'std'] = release_fluxes.loc[('met', 'BJ-TERT'), 'mean'] * 0.2\n",
    "release_fluxes"
   ]
  },
  {
   "cell_type": "markdown",
   "id": "4aced97a-f320-477b-94a6-1c4c85af4512",
   "metadata": {},
   "source": [
    "Manually select flux and combine with protein estimate"
   ]
  },
  {
   "cell_type": "code",
   "execution_count": 44,
   "id": "9f83059a-5dc9-4b1d-af10-f09606cdc868",
   "metadata": {},
   "outputs": [],
   "source": [
    "prot_out_estimates = {'BJ-TERT': 416, 'BJ-RAS': 520}\n",
    "prot_out_rel_err = 0.2"
   ]
  },
  {
   "cell_type": "code",
   "execution_count": 46,
   "id": "3baec734-299e-4939-86a3-e7b329a0856e",
   "metadata": {},
   "outputs": [
    {
     "data": {
      "text/html": [
       "<div>\n",
       "<style scoped>\n",
       "    .dataframe tbody tr th:only-of-type {\n",
       "        vertical-align: middle;\n",
       "    }\n",
       "\n",
       "    .dataframe tbody tr th {\n",
       "        vertical-align: top;\n",
       "    }\n",
       "\n",
       "    .dataframe thead th {\n",
       "        text-align: right;\n",
       "    }\n",
       "</style>\n",
       "<table border=\"1\" class=\"dataframe\">\n",
       "  <thead>\n",
       "    <tr style=\"text-align: right;\">\n",
       "      <th></th>\n",
       "      <th></th>\n",
       "      <th>mean</th>\n",
       "      <th>std_dev</th>\n",
       "    </tr>\n",
       "    <tr>\n",
       "      <th>cell_type</th>\n",
       "      <th>flux</th>\n",
       "      <th></th>\n",
       "      <th></th>\n",
       "    </tr>\n",
       "  </thead>\n",
       "  <tbody>\n",
       "    <tr>\n",
       "      <th rowspan=\"2\" valign=\"top\">BJ-TERT</th>\n",
       "      <th>HCYS_OUT</th>\n",
       "      <td>149.416400</td>\n",
       "      <td>29.883280</td>\n",
       "    </tr>\n",
       "    <tr>\n",
       "      <th>PROT_OUT</th>\n",
       "      <td>416.000000</td>\n",
       "      <td>83.200000</td>\n",
       "    </tr>\n",
       "    <tr>\n",
       "      <th rowspan=\"2\" valign=\"top\">BJ-RAS</th>\n",
       "      <th>HCYS_OUT</th>\n",
       "      <td>132.345215</td>\n",
       "      <td>4.564224</td>\n",
       "    </tr>\n",
       "    <tr>\n",
       "      <th>PROT_OUT</th>\n",
       "      <td>520.000000</td>\n",
       "      <td>104.000000</td>\n",
       "    </tr>\n",
       "  </tbody>\n",
       "</table>\n",
       "</div>"
      ],
      "text/plain": [
       "                          mean     std_dev\n",
       "cell_type flux                            \n",
       "BJ-TERT   HCYS_OUT  149.416400   29.883280\n",
       "          PROT_OUT  416.000000   83.200000\n",
       "BJ-RAS    HCYS_OUT  132.345215    4.564224\n",
       "          PROT_OUT  520.000000  104.000000"
      ]
     },
     "execution_count": 46,
     "metadata": {},
     "output_type": "execute_result"
    }
   ],
   "source": [
    "measured_fluxes = pd.DataFrame(\n",
    "    [\n",
    "        tuple(release_fluxes.loc[('hcys', 'BJ-TERT')]),\n",
    "        (prot_out_estimates['BJ-TERT'], prot_out_estimates['BJ-TERT'] * prot_out_rel_err),\n",
    "        tuple(release_fluxes.loc[('hcys', 'BJ-RAS')]),\n",
    "        (prot_out_estimates['BJ-RAS'], prot_out_estimates['BJ-RAS'] * prot_out_rel_err),\n",
    "    ],\n",
    "    columns=['mean', 'std_dev'],\n",
    "    index=pd.MultiIndex.from_tuples(\n",
    "        [\n",
    "            ('BJ-TERT', 'HCYS_OUT'),\n",
    "            ('BJ-TERT', 'PROT_OUT'),\n",
    "            ('BJ-RAS', 'HCYS_OUT'),\n",
    "            ('BJ-RAS', 'PROT_OUT'),\n",
    "        ],\n",
    "        names=['cell_type', 'flux']\n",
    "    )\n",
    ")\n",
    "measured_fluxes"
   ]
  },
  {
   "cell_type": "markdown",
   "id": "d1a913de-392a-4a56-832f-b5e67cfb31bb",
   "metadata": {
    "jp-MarkdownHeadingCollapsed": true
   },
   "source": [
    "### Heavy fractions"
   ]
  },
  {
   "cell_type": "code",
   "execution_count": 48,
   "id": "e6aa42af-eae4-438b-a53f-f8a3a5ef41d1",
   "metadata": {},
   "outputs": [
    {
     "data": {
      "text/html": [
       "<div>\n",
       "<style scoped>\n",
       "    .dataframe tbody tr th:only-of-type {\n",
       "        vertical-align: middle;\n",
       "    }\n",
       "\n",
       "    .dataframe tbody tr th {\n",
       "        vertical-align: top;\n",
       "    }\n",
       "\n",
       "    .dataframe thead th {\n",
       "        text-align: right;\n",
       "    }\n",
       "</style>\n",
       "<table border=\"1\" class=\"dataframe\">\n",
       "  <thead>\n",
       "    <tr style=\"text-align: right;\">\n",
       "      <th></th>\n",
       "      <th></th>\n",
       "      <th></th>\n",
       "      <th>cyst</th>\n",
       "      <th>met</th>\n",
       "      <th>sam</th>\n",
       "    </tr>\n",
       "    <tr>\n",
       "      <th>cell_type</th>\n",
       "      <th>time_hours</th>\n",
       "      <th>replicate_nr</th>\n",
       "      <th></th>\n",
       "      <th></th>\n",
       "      <th></th>\n",
       "    </tr>\n",
       "  </thead>\n",
       "  <tbody>\n",
       "    <tr>\n",
       "      <th rowspan=\"5\" valign=\"top\">BJ-RAS</th>\n",
       "      <th rowspan=\"2\" valign=\"top\">0.083333</th>\n",
       "      <th>1</th>\n",
       "      <td>-4.730827e-07</td>\n",
       "      <td>0.947336</td>\n",
       "      <td>0.128583</td>\n",
       "    </tr>\n",
       "    <tr>\n",
       "      <th>2</th>\n",
       "      <td>-4.730827e-07</td>\n",
       "      <td>0.958151</td>\n",
       "      <td>0.154254</td>\n",
       "    </tr>\n",
       "    <tr>\n",
       "      <th rowspan=\"2\" valign=\"top\">0.250000</th>\n",
       "      <th>1</th>\n",
       "      <td>-4.730827e-07</td>\n",
       "      <td>0.972891</td>\n",
       "      <td>0.475179</td>\n",
       "    </tr>\n",
       "    <tr>\n",
       "      <th>2</th>\n",
       "      <td>-4.730827e-07</td>\n",
       "      <td>0.970010</td>\n",
       "      <td>0.479771</td>\n",
       "    </tr>\n",
       "    <tr>\n",
       "      <th>0.500000</th>\n",
       "      <th>1</th>\n",
       "      <td>-4.730827e-07</td>\n",
       "      <td>0.970564</td>\n",
       "      <td>0.735455</td>\n",
       "    </tr>\n",
       "  </tbody>\n",
       "</table>\n",
       "</div>"
      ],
      "text/plain": [
       "                                           cyst       met       sam\n",
       "cell_type time_hours replicate_nr                                  \n",
       "BJ-RAS    0.083333   1            -4.730827e-07  0.947336  0.128583\n",
       "                     2            -4.730827e-07  0.958151  0.154254\n",
       "          0.250000   1            -4.730827e-07  0.972891  0.475179\n",
       "                     2            -4.730827e-07  0.970010  0.479771\n",
       "          0.500000   1            -4.730827e-07  0.970564  0.735455"
      ]
     },
     "execution_count": 48,
     "metadata": {},
     "output_type": "execute_result"
    }
   ],
   "source": [
    "heavy_fractions = pd.read_csv(derived_data_path / '13C-met_heavy_fractions.csv', index_col=[0, 1, 2])\n",
    "# use time in hours\n",
    "heavy_fractions.index = heavy_fractions.index\\\n",
    "    .set_levels(heavy_fractions.index.levels[1].astype('float64') / 60, level=1)\\\n",
    "    .rename(['cell_type', 'time_hours', 'replicate_nr'])\n",
    "heavy_fractions.head(5)"
   ]
  },
  {
   "cell_type": "code",
   "execution_count": 49,
   "id": "bac3ff10-73f0-4b27-9ffd-ca709e7fd3f9",
   "metadata": {},
   "outputs": [
    {
     "data": {
      "text/html": [
       "<div>\n",
       "<style scoped>\n",
       "    .dataframe tbody tr th:only-of-type {\n",
       "        vertical-align: middle;\n",
       "    }\n",
       "\n",
       "    .dataframe tbody tr th {\n",
       "        vertical-align: top;\n",
       "    }\n",
       "\n",
       "    .dataframe thead th {\n",
       "        text-align: right;\n",
       "    }\n",
       "</style>\n",
       "<table border=\"1\" class=\"dataframe\">\n",
       "  <thead>\n",
       "    <tr style=\"text-align: right;\">\n",
       "      <th></th>\n",
       "      <th></th>\n",
       "      <th>cyst</th>\n",
       "      <th>met</th>\n",
       "      <th>sam</th>\n",
       "    </tr>\n",
       "    <tr>\n",
       "      <th>cell_type</th>\n",
       "      <th>time_hours</th>\n",
       "      <th></th>\n",
       "      <th></th>\n",
       "      <th></th>\n",
       "    </tr>\n",
       "  </thead>\n",
       "  <tbody>\n",
       "    <tr>\n",
       "      <th rowspan=\"6\" valign=\"top\">BJ-RAS</th>\n",
       "      <th>0.083333</th>\n",
       "      <td>-4.730827e-07</td>\n",
       "      <td>0.952744</td>\n",
       "      <td>0.141419</td>\n",
       "    </tr>\n",
       "    <tr>\n",
       "      <th>0.250000</th>\n",
       "      <td>-4.730827e-07</td>\n",
       "      <td>0.971451</td>\n",
       "      <td>0.477475</td>\n",
       "    </tr>\n",
       "    <tr>\n",
       "      <th>0.500000</th>\n",
       "      <td>-4.730827e-07</td>\n",
       "      <td>0.972464</td>\n",
       "      <td>0.743137</td>\n",
       "    </tr>\n",
       "    <tr>\n",
       "      <th>1.000000</th>\n",
       "      <td>-4.730827e-07</td>\n",
       "      <td>0.972576</td>\n",
       "      <td>0.878904</td>\n",
       "    </tr>\n",
       "    <tr>\n",
       "      <th>5.000000</th>\n",
       "      <td>3.797082e-01</td>\n",
       "      <td>0.984947</td>\n",
       "      <td>0.958616</td>\n",
       "    </tr>\n",
       "    <tr>\n",
       "      <th>24.000000</th>\n",
       "      <td>7.779678e-01</td>\n",
       "      <td>0.976280</td>\n",
       "      <td>0.973534</td>\n",
       "    </tr>\n",
       "    <tr>\n",
       "      <th rowspan=\"6\" valign=\"top\">BJ-TERT</th>\n",
       "      <th>0.083333</th>\n",
       "      <td>-4.730827e-07</td>\n",
       "      <td>0.965920</td>\n",
       "      <td>0.146616</td>\n",
       "    </tr>\n",
       "    <tr>\n",
       "      <th>0.250000</th>\n",
       "      <td>-4.730827e-07</td>\n",
       "      <td>0.971597</td>\n",
       "      <td>0.468725</td>\n",
       "    </tr>\n",
       "    <tr>\n",
       "      <th>0.500000</th>\n",
       "      <td>-4.730827e-07</td>\n",
       "      <td>0.977344</td>\n",
       "      <td>0.780345</td>\n",
       "    </tr>\n",
       "    <tr>\n",
       "      <th>1.000000</th>\n",
       "      <td>1.283193e-01</td>\n",
       "      <td>0.976847</td>\n",
       "      <td>0.938402</td>\n",
       "    </tr>\n",
       "    <tr>\n",
       "      <th>5.000000</th>\n",
       "      <td>6.647575e-01</td>\n",
       "      <td>0.982441</td>\n",
       "      <td>0.978226</td>\n",
       "    </tr>\n",
       "    <tr>\n",
       "      <th>24.000000</th>\n",
       "      <td>7.412110e-01</td>\n",
       "      <td>0.973523</td>\n",
       "      <td>0.974370</td>\n",
       "    </tr>\n",
       "  </tbody>\n",
       "</table>\n",
       "</div>"
      ],
      "text/plain": [
       "                              cyst       met       sam\n",
       "cell_type time_hours                                  \n",
       "BJ-RAS    0.083333   -4.730827e-07  0.952744  0.141419\n",
       "          0.250000   -4.730827e-07  0.971451  0.477475\n",
       "          0.500000   -4.730827e-07  0.972464  0.743137\n",
       "          1.000000   -4.730827e-07  0.972576  0.878904\n",
       "          5.000000    3.797082e-01  0.984947  0.958616\n",
       "          24.000000   7.779678e-01  0.976280  0.973534\n",
       "BJ-TERT   0.083333   -4.730827e-07  0.965920  0.146616\n",
       "          0.250000   -4.730827e-07  0.971597  0.468725\n",
       "          0.500000   -4.730827e-07  0.977344  0.780345\n",
       "          1.000000    1.283193e-01  0.976847  0.938402\n",
       "          5.000000    6.647575e-01  0.982441  0.978226\n",
       "          24.000000   7.412110e-01  0.973523  0.974370"
      ]
     },
     "execution_count": 49,
     "metadata": {},
     "output_type": "execute_result"
    }
   ],
   "source": [
    "heavy_fraction_mean = heavy_fractions.groupby(level=[0, 1]).mean()\n",
    "heavy_fraction_mean"
   ]
  },
  {
   "cell_type": "code",
   "execution_count": 50,
   "id": "823ec6e1-ebad-46ff-8f57-34fb4e196e1d",
   "metadata": {},
   "outputs": [
    {
     "data": {
      "text/html": [
       "<div>\n",
       "<style scoped>\n",
       "    .dataframe tbody tr th:only-of-type {\n",
       "        vertical-align: middle;\n",
       "    }\n",
       "\n",
       "    .dataframe tbody tr th {\n",
       "        vertical-align: top;\n",
       "    }\n",
       "\n",
       "    .dataframe thead th {\n",
       "        text-align: right;\n",
       "    }\n",
       "</style>\n",
       "<table border=\"1\" class=\"dataframe\">\n",
       "  <thead>\n",
       "    <tr style=\"text-align: right;\">\n",
       "      <th></th>\n",
       "      <th></th>\n",
       "      <th>cyst</th>\n",
       "      <th>met</th>\n",
       "      <th>sam</th>\n",
       "    </tr>\n",
       "    <tr>\n",
       "      <th>cell_type</th>\n",
       "      <th>time_hours</th>\n",
       "      <th></th>\n",
       "      <th></th>\n",
       "      <th></th>\n",
       "    </tr>\n",
       "  </thead>\n",
       "  <tbody>\n",
       "    <tr>\n",
       "      <th rowspan=\"6\" valign=\"top\">BJ-RAS</th>\n",
       "      <th>0.083333</th>\n",
       "      <td>0.020000</td>\n",
       "      <td>0.02</td>\n",
       "      <td>0.02</td>\n",
       "    </tr>\n",
       "    <tr>\n",
       "      <th>0.250000</th>\n",
       "      <td>0.020000</td>\n",
       "      <td>0.02</td>\n",
       "      <td>0.02</td>\n",
       "    </tr>\n",
       "    <tr>\n",
       "      <th>0.500000</th>\n",
       "      <td>0.020000</td>\n",
       "      <td>0.02</td>\n",
       "      <td>0.02</td>\n",
       "    </tr>\n",
       "    <tr>\n",
       "      <th>1.000000</th>\n",
       "      <td>0.020000</td>\n",
       "      <td>0.02</td>\n",
       "      <td>0.02</td>\n",
       "    </tr>\n",
       "    <tr>\n",
       "      <th>5.000000</th>\n",
       "      <td>0.034009</td>\n",
       "      <td>0.02</td>\n",
       "      <td>0.02</td>\n",
       "    </tr>\n",
       "    <tr>\n",
       "      <th>24.000000</th>\n",
       "      <td>0.035625</td>\n",
       "      <td>0.02</td>\n",
       "      <td>0.02</td>\n",
       "    </tr>\n",
       "    <tr>\n",
       "      <th rowspan=\"6\" valign=\"top\">BJ-TERT</th>\n",
       "      <th>0.083333</th>\n",
       "      <td>0.020000</td>\n",
       "      <td>0.02</td>\n",
       "      <td>0.02</td>\n",
       "    </tr>\n",
       "    <tr>\n",
       "      <th>0.250000</th>\n",
       "      <td>0.020000</td>\n",
       "      <td>0.02</td>\n",
       "      <td>0.02</td>\n",
       "    </tr>\n",
       "    <tr>\n",
       "      <th>0.500000</th>\n",
       "      <td>0.020000</td>\n",
       "      <td>0.02</td>\n",
       "      <td>0.02</td>\n",
       "    </tr>\n",
       "    <tr>\n",
       "      <th>1.000000</th>\n",
       "      <td>0.023403</td>\n",
       "      <td>0.02</td>\n",
       "      <td>0.02</td>\n",
       "    </tr>\n",
       "    <tr>\n",
       "      <th>5.000000</th>\n",
       "      <td>0.046440</td>\n",
       "      <td>0.02</td>\n",
       "      <td>0.02</td>\n",
       "    </tr>\n",
       "    <tr>\n",
       "      <th>24.000000</th>\n",
       "      <td>0.020000</td>\n",
       "      <td>0.02</td>\n",
       "      <td>0.02</td>\n",
       "    </tr>\n",
       "  </tbody>\n",
       "</table>\n",
       "</div>"
      ],
      "text/plain": [
       "                          cyst   met   sam\n",
       "cell_type time_hours                      \n",
       "BJ-RAS    0.083333    0.020000  0.02  0.02\n",
       "          0.250000    0.020000  0.02  0.02\n",
       "          0.500000    0.020000  0.02  0.02\n",
       "          1.000000    0.020000  0.02  0.02\n",
       "          5.000000    0.034009  0.02  0.02\n",
       "          24.000000   0.035625  0.02  0.02\n",
       "BJ-TERT   0.083333    0.020000  0.02  0.02\n",
       "          0.250000    0.020000  0.02  0.02\n",
       "          0.500000    0.020000  0.02  0.02\n",
       "          1.000000    0.023403  0.02  0.02\n",
       "          5.000000    0.046440  0.02  0.02\n",
       "          24.000000   0.020000  0.02  0.02"
      ]
     },
     "execution_count": 50,
     "metadata": {},
     "output_type": "execute_result"
    }
   ],
   "source": [
    "min_std_dev = 0.02\n",
    "heavy_fraction_sd = np.maximum(heavy_fractions.groupby(level=[0, 1]).std(), min_std_dev)\n",
    "heavy_fraction_sd"
   ]
  },
  {
   "cell_type": "markdown",
   "id": "55abdce8-4605-4b0a-a485-c7ef9349beb7",
   "metadata": {},
   "source": [
    "### Initial flux state"
   ]
  },
  {
   "cell_type": "code",
   "execution_count": 78,
   "id": "f46d5704-2969-4db8-b8d0-8a8fd0f6c62b",
   "metadata": {},
   "outputs": [],
   "source": [
    "init_flux_state = FluxState.from_dict(\n",
    "    flux_model,\n",
    "    free_fluxes={\n",
    "        'CYSTS' : 7,\n",
    "        'METS': 85,\n",
    "        'SAM_METH': 110,\n",
    "        'PROT_OUT': 400,\n",
    "    },\n",
    "    exchanges={\n",
    "        'MET_IN' : 0.9,\n",
    "        'PROT_SYNTH': 0.4,\n",
    "        'AHCY': 0.4,\n",
    "        'CYSTL': 0.4,\n",
    "    }\n",
    ")"
   ]
  },
  {
   "cell_type": "code",
   "execution_count": 79,
   "id": "edbaf396-5957-4111-990c-2bb8f97fc6d9",
   "metadata": {},
   "outputs": [],
   "source": [
    "initial_state = ModelState(\n",
    "    model=flux_model,\n",
    "    flux_state=init_flux_state,\n",
    "    concentrations=pool_size_data.loc['BJ-TERT'].loc[flux_model.metabolites, 'mean'].to_numpy(),\n",
    "    medium_mi={'MET_IN': 1.0}\n",
    ")"
   ]
  },
  {
   "cell_type": "markdown",
   "id": "4ff4003b-f1e9-45fe-a8fe-93ee1b81838b",
   "metadata": {},
   "source": [
    "### Fit model"
   ]
  },
  {
   "cell_type": "code",
   "execution_count": 80,
   "id": "fe7a5ab4-ef42-41d1-8c92-c39e73933a24",
   "metadata": {},
   "outputs": [],
   "source": [
    "cell_types = ['BJ-TERT', 'BJ-RAS']"
   ]
  },
  {
   "cell_type": "code",
   "execution_count": 81,
   "id": "b6bc6be7-37f4-4083-a49e-97c580cab2d9",
   "metadata": {},
   "outputs": [],
   "source": [
    "model_fits = {\n",
    "    cell_type: ModelFit(\n",
    "        initial_state,\n",
    "        measured_mi = heavy_fraction_mean.loc[cell_type],\n",
    "        measured_mi_std_dev = heavy_fraction_sd.loc[cell_type],\n",
    "        measured_fluxes=measured_fluxes.loc[cell_type],\n",
    "        measured_conc=pool_size_data.loc[cell_type]\n",
    "    )\n",
    "    for cell_type in cell_types\n",
    "}"
   ]
  },
  {
   "cell_type": "markdown",
   "id": "3fcc6f9d-8c3f-4562-b6ca-7e1cdf616d24",
   "metadata": {},
   "source": [
    "Initial residuals"
   ]
  },
  {
   "cell_type": "code",
   "execution_count": 82,
   "id": "76eb7392-a663-4aa8-9afb-816d384eff15",
   "metadata": {},
   "outputs": [
    {
     "data": {
      "text/plain": [
       "[array([-0.003, 26.855,  5.619, -0.184,  9.461, 13.631, -1.442,  3.557,\n",
       "        16.908, -0.206,  2.072, 10.235,  2.38 ,  1.726,  1.562,  5.467,\n",
       "         0.244,  0.31 ,  4.398,  0.192,  0.   ,  0.   ,  0.   ,  0.   ,\n",
       "         0.   ,  0.   ,  0.   ]),\n",
       " array([ -0.003,  26.196,   5.359,  -0.184,   9.453,  14.068,  -1.442,\n",
       "          3.313,  15.048,  -6.657,   1.858,   7.26 ,  -5.132,   1.851,\n",
       "          0.582,   4.101,   0.382,   0.268,  25.052,   1.154,   0.   ,\n",
       "        -38.58 ,   0.   ,  -3.226,   0.   ,  -5.801,   3.59 ])]"
      ]
     },
     "execution_count": 82,
     "metadata": {},
     "output_type": "execute_result"
    }
   ],
   "source": [
    "[model_fits[cell_type].model_residual() for cell_type in cell_types]"
   ]
  },
  {
   "cell_type": "markdown",
   "id": "80efbea8-fe98-4d89-a4ba-e383f368cb89",
   "metadata": {},
   "source": [
    "Fit models"
   ]
  },
  {
   "cell_type": "code",
   "execution_count": 83,
   "id": "c23ecaa7-fda3-419a-838e-5e6bf13bdbbe",
   "metadata": {},
   "outputs": [],
   "source": [
    "for cell_type in cell_types:\n",
    "    model_fits[cell_type].fit()"
   ]
  },
  {
   "cell_type": "code",
   "execution_count": 84,
   "id": "19ca0998-baf9-44fe-8a31-4ca420463a04",
   "metadata": {},
   "outputs": [
    {
     "data": {
      "text/html": [
       "<table class=\"jp-toc-ignore\"><caption>Parameters</caption><tr><th style='text-align:left'>name</th><th style='text-align:left'>value</th><th style='text-align:left'>standard error</th><th style='text-align:left'>relative error</th><th style='text-align:left'>initial value</th><th style='text-align:left'>min</th><th style='text-align:left'>max</th><th style='text-align:right'>vary</th></tr><tr><td style='text-align:left'>CYSTS</td><td style='text-align:left'> 3.91846227</td><td style='text-align:left'> 0.73490428</td><td style='text-align:left'>(18.75%)</td><td style='text-align:left'>7</td><td style='text-align:left'> 0.01000000</td><td style='text-align:left'> 1000.00000</td><td style='text-align:right'>True</td></tr><tr><td style='text-align:left'>METS</td><td style='text-align:left'> 26.0379272</td><td style='text-align:left'> 37.6087953</td><td style='text-align:left'>(144.44%)</td><td style='text-align:left'>85</td><td style='text-align:left'> 0.01000000</td><td style='text-align:left'> 1000.00000</td><td style='text-align:right'>True</td></tr><tr><td style='text-align:left'>PROT_OUT</td><td style='text-align:left'> 415.587913</td><td style='text-align:left'> 88.1040555</td><td style='text-align:left'>(21.20%)</td><td style='text-align:left'>400</td><td style='text-align:left'> 0.01000000</td><td style='text-align:left'> 1000.00000</td><td style='text-align:right'>True</td></tr><tr><td style='text-align:left'>SAM_METH</td><td style='text-align:left'> 179.833476</td><td style='text-align:left'> 20.0727124</td><td style='text-align:left'>(11.16%)</td><td style='text-align:left'>110</td><td style='text-align:left'> 0.01000000</td><td style='text-align:left'> 1000.00000</td><td style='text-align:right'>True</td></tr><tr><td style='text-align:left'>AHCY_EX</td><td style='text-align:left'> 0.00836576</td><td style='text-align:left'> 37.8247498</td><td style='text-align:left'>(452137.85%)</td><td style='text-align:left'>0.4</td><td style='text-align:left'> 0.00000000</td><td style='text-align:left'> 0.99900000</td><td style='text-align:right'>True</td></tr><tr><td style='text-align:left'>CYSTL_EX</td><td style='text-align:left'> 0.26184593</td><td style='text-align:left'> 0.03898714</td><td style='text-align:left'>(14.89%)</td><td style='text-align:left'>0.4</td><td style='text-align:left'> 0.00000000</td><td style='text-align:left'> 0.99900000</td><td style='text-align:right'>True</td></tr><tr><td style='text-align:left'>MET_IN_EX</td><td style='text-align:left'> 0.97753970</td><td style='text-align:left'> 0.00576061</td><td style='text-align:left'>(0.59%)</td><td style='text-align:left'>0.9</td><td style='text-align:left'> 0.00000000</td><td style='text-align:left'> 0.99900000</td><td style='text-align:right'>True</td></tr><tr><td style='text-align:left'>PROT_SYNTH_EX</td><td style='text-align:left'> 0.52392248</td><td style='text-align:left'> 0.16470963</td><td style='text-align:left'>(31.44%)</td><td style='text-align:left'>0.4</td><td style='text-align:left'> 0.00000000</td><td style='text-align:left'> 0.99900000</td><td style='text-align:right'>True</td></tr><tr><td style='text-align:left'>akb</td><td style='text-align:left'> 1170.84287</td><td style='text-align:left'> 1058.29078</td><td style='text-align:left'>(90.39%)</td><td style='text-align:left'>1000.0</td><td style='text-align:left'> 100.000000</td><td style='text-align:left'> 10000.0000</td><td style='text-align:right'>True</td></tr><tr><td style='text-align:left'>cyst</td><td style='text-align:left'> 13.5530479</td><td style='text-align:left'> 0.79154215</td><td style='text-align:left'>(5.84%)</td><td style='text-align:left'>13.563338626017718</td><td style='text-align:left'> 1.35633386</td><td style='text-align:left'> 135.633386</td><td style='text-align:right'>True</td></tr><tr><td style='text-align:left'>hcys</td><td style='text-align:left'> 19.1532704</td><td style='text-align:left'> 10.2089871</td><td style='text-align:left'>(53.30%)</td><td style='text-align:left'>10.0</td><td style='text-align:left'> 1.00000000</td><td style='text-align:left'> 100.000000</td><td style='text-align:right'>True</td></tr><tr><td style='text-align:left'>met</td><td style='text-align:left'> 614.375360</td><td style='text-align:left'> 5.95446422</td><td style='text-align:left'>(0.97%)</td><td style='text-align:left'>614.4062381005</td><td style='text-align:left'> 61.4406238</td><td style='text-align:left'> 6144.06238</td><td style='text-align:right'>True</td></tr><tr><td style='text-align:left'>metp</td><td style='text-align:left'> 23668.7498</td><td style='text-align:left'> 2493.54537</td><td style='text-align:left'>(10.54%)</td><td style='text-align:left'>23500.0</td><td style='text-align:left'> 2350.00000</td><td style='text-align:left'> 235000.000</td><td style='text-align:right'>True</td></tr><tr><td style='text-align:left'>sah</td><td style='text-align:left'> 2.11810326</td><td style='text-align:left'> 0.06446156</td><td style='text-align:left'>(3.04%)</td><td style='text-align:left'>2.11766175812231</td><td style='text-align:left'> 0.21176618</td><td style='text-align:left'> 21.1766176</td><td style='text-align:right'>True</td></tr><tr><td style='text-align:left'>sam</td><td style='text-align:left'> 59.0466720</td><td style='text-align:left'> 5.98998236</td><td style='text-align:left'>(10.14%)</td><td style='text-align:left'>60.09874366706042</td><td style='text-align:left'> 6.00987437</td><td style='text-align:left'> 600.987437</td><td style='text-align:right'>True</td></tr></table>"
      ],
      "text/plain": [
       "Parameters([('CYSTS', <Parameter 'CYSTS', value=3.9184622736333674 +/- 0.735, bounds=[0.01:1000]>), ('METS', <Parameter 'METS', value=26.03792721798686 +/- 37.6, bounds=[0.01:1000]>), ('PROT_OUT', <Parameter 'PROT_OUT', value=415.5879125870909 +/- 88.1, bounds=[0.01:1000]>), ('SAM_METH', <Parameter 'SAM_METH', value=179.8334761336105 +/- 20.1, bounds=[0.01:1000]>), ('AHCY_EX', <Parameter 'AHCY_EX', value=0.008365756142700317 +/- 37.8, bounds=[0:0.999]>), ('CYSTL_EX', <Parameter 'CYSTL_EX', value=0.26184593484513674 +/- 0.039, bounds=[0:0.999]>), ('MET_IN_EX', <Parameter 'MET_IN_EX', value=0.977539700852947 +/- 0.00576, bounds=[0:0.999]>), ('PROT_SYNTH_EX', <Parameter 'PROT_SYNTH_EX', value=0.5239224833286128 +/- 0.165, bounds=[0:0.999]>), ('akb', <Parameter 'akb', value=1170.8428680107309 +/- 1.06e+03, bounds=[100.0:10000.0]>), ('cyst', <Parameter 'cyst', value=13.553047932476652 +/- 0.792, bounds=[1.3563338626017718:135.6333862601772]>), ('hcys', <Parameter 'hcys', value=19.153270380567648 +/- 10.2, bounds=[1.0:100.0]>), ('met', <Parameter 'met', value=614.375360113512 +/- 5.95, bounds=[61.44062381005:6144.062381005]>), ('metp', <Parameter 'metp', value=23668.74984827423 +/- 2.49e+03, bounds=[2350.0:235000.0]>), ('sah', <Parameter 'sah', value=2.118103262962683 +/- 0.0645, bounds=[0.21176617581223098:21.1766175812231]>), ('sam', <Parameter 'sam', value=59.046672018112496 +/- 5.99, bounds=[6.0098743667060415:600.9874366706042]>)])"
      ]
     },
     "execution_count": 84,
     "metadata": {},
     "output_type": "execute_result"
    }
   ],
   "source": [
    "model_fits['BJ-TERT'].minimizer_result.params"
   ]
  },
  {
   "cell_type": "code",
   "execution_count": 85,
   "id": "2d714ff4-c3bc-47e1-b506-bc550f2835e1",
   "metadata": {},
   "outputs": [
    {
     "data": {
      "text/html": [
       "<div>\n",
       "<style scoped>\n",
       "    .dataframe tbody tr th:only-of-type {\n",
       "        vertical-align: middle;\n",
       "    }\n",
       "\n",
       "    .dataframe tbody tr th {\n",
       "        vertical-align: top;\n",
       "    }\n",
       "\n",
       "    .dataframe thead th {\n",
       "        text-align: right;\n",
       "    }\n",
       "</style>\n",
       "<table border=\"1\" class=\"dataframe\">\n",
       "  <thead>\n",
       "    <tr style=\"text-align: right;\">\n",
       "      <th></th>\n",
       "      <th>net_flux</th>\n",
       "      <th>fwd_flux</th>\n",
       "      <th>rev_flux</th>\n",
       "    </tr>\n",
       "  </thead>\n",
       "  <tbody>\n",
       "    <tr>\n",
       "      <th>AHCY</th>\n",
       "      <td>179.833476</td>\n",
       "      <td>181.350611</td>\n",
       "      <td>1.517135</td>\n",
       "    </tr>\n",
       "    <tr>\n",
       "      <th>AKB_OUT</th>\n",
       "      <td>3.918462</td>\n",
       "      <td>3.918462</td>\n",
       "      <td>0.000000</td>\n",
       "    </tr>\n",
       "    <tr>\n",
       "      <th>CYSTL</th>\n",
       "      <td>3.918462</td>\n",
       "      <td>5.308461</td>\n",
       "      <td>1.389999</td>\n",
       "    </tr>\n",
       "    <tr>\n",
       "      <th>CYSTS</th>\n",
       "      <td>3.918462</td>\n",
       "      <td>3.918462</td>\n",
       "      <td>0.000000</td>\n",
       "    </tr>\n",
       "    <tr>\n",
       "      <th>HCYS_OUT</th>\n",
       "      <td>149.877087</td>\n",
       "      <td>149.877087</td>\n",
       "      <td>0.000000</td>\n",
       "    </tr>\n",
       "    <tr>\n",
       "      <th>MAT</th>\n",
       "      <td>179.833476</td>\n",
       "      <td>179.833476</td>\n",
       "      <td>0.000000</td>\n",
       "    </tr>\n",
       "    <tr>\n",
       "      <th>METS</th>\n",
       "      <td>26.037927</td>\n",
       "      <td>26.037927</td>\n",
       "      <td>0.000000</td>\n",
       "    </tr>\n",
       "    <tr>\n",
       "      <th>MET_IN</th>\n",
       "      <td>569.383462</td>\n",
       "      <td>25350.662419</td>\n",
       "      <td>24781.278957</td>\n",
       "    </tr>\n",
       "    <tr>\n",
       "      <th>PROT_OUT</th>\n",
       "      <td>415.587913</td>\n",
       "      <td>415.587913</td>\n",
       "      <td>0.000000</td>\n",
       "    </tr>\n",
       "    <tr>\n",
       "      <th>PROT_SYNTH</th>\n",
       "      <td>415.587913</td>\n",
       "      <td>872.941691</td>\n",
       "      <td>457.353779</td>\n",
       "    </tr>\n",
       "    <tr>\n",
       "      <th>SAM_METH</th>\n",
       "      <td>179.833476</td>\n",
       "      <td>179.833476</td>\n",
       "      <td>0.000000</td>\n",
       "    </tr>\n",
       "  </tbody>\n",
       "</table>\n",
       "</div>"
      ],
      "text/plain": [
       "              net_flux      fwd_flux      rev_flux\n",
       "AHCY        179.833476    181.350611      1.517135\n",
       "AKB_OUT       3.918462      3.918462      0.000000\n",
       "CYSTL         3.918462      5.308461      1.389999\n",
       "CYSTS         3.918462      3.918462      0.000000\n",
       "HCYS_OUT    149.877087    149.877087      0.000000\n",
       "MAT         179.833476    179.833476      0.000000\n",
       "METS         26.037927     26.037927      0.000000\n",
       "MET_IN      569.383462  25350.662419  24781.278957\n",
       "PROT_OUT    415.587913    415.587913      0.000000\n",
       "PROT_SYNTH  415.587913    872.941691    457.353779\n",
       "SAM_METH    179.833476    179.833476      0.000000"
      ]
     },
     "execution_count": 85,
     "metadata": {},
     "output_type": "execute_result"
    }
   ],
   "source": [
    "flux_model.get_flux_table(model_fits['BJ-TERT'].model_state.flux_state)"
   ]
  },
  {
   "cell_type": "code",
   "execution_count": 86,
   "id": "b9026fd0-8ed0-488e-b490-c9168507f4ea",
   "metadata": {},
   "outputs": [
    {
     "data": {
      "text/html": [
       "<table class=\"jp-toc-ignore\"><caption>Parameters</caption><tr><th style='text-align:left'>name</th><th style='text-align:left'>value</th><th style='text-align:left'>standard error</th><th style='text-align:left'>relative error</th><th style='text-align:left'>initial value</th><th style='text-align:left'>min</th><th style='text-align:left'>max</th><th style='text-align:right'>vary</th></tr><tr><td style='text-align:left'>CYSTS</td><td style='text-align:left'> 0.67221622</td><td style='text-align:left'> 0.11165275</td><td style='text-align:left'>(16.61%)</td><td style='text-align:left'>7</td><td style='text-align:left'> 0.01000000</td><td style='text-align:left'> 1000.00000</td><td style='text-align:right'>True</td></tr><tr><td style='text-align:left'>METS</td><td style='text-align:left'> 203.571238</td><td style='text-align:left'> 61.1833209</td><td style='text-align:left'>(30.05%)</td><td style='text-align:left'>85</td><td style='text-align:left'> 0.01000000</td><td style='text-align:left'> 1000.00000</td><td style='text-align:right'>True</td></tr><tr><td style='text-align:left'>PROT_OUT</td><td style='text-align:left'> 508.545524</td><td style='text-align:left'> 124.156310</td><td style='text-align:left'>(24.41%)</td><td style='text-align:left'>400</td><td style='text-align:left'> 0.01000000</td><td style='text-align:left'> 1000.00000</td><td style='text-align:right'>True</td></tr><tr><td style='text-align:left'>SAM_METH</td><td style='text-align:left'> 336.618181</td><td style='text-align:left'> 60.9329343</td><td style='text-align:left'>(18.10%)</td><td style='text-align:left'>110</td><td style='text-align:left'> 0.01000000</td><td style='text-align:left'> 1000.00000</td><td style='text-align:right'>True</td></tr><tr><td style='text-align:left'>AHCY_EX</td><td style='text-align:left'> 0.59338148</td><td style='text-align:left'> 499.135094</td><td style='text-align:left'>(84117.07%)</td><td style='text-align:left'>0.4</td><td style='text-align:left'> 0.00000000</td><td style='text-align:left'> 0.99900000</td><td style='text-align:right'>True</td></tr><tr><td style='text-align:left'>CYSTL_EX</td><td style='text-align:left'> 0.15149682</td><td style='text-align:left'> 0.07129319</td><td style='text-align:left'>(47.06%)</td><td style='text-align:left'>0.4</td><td style='text-align:left'> 0.00000000</td><td style='text-align:left'> 0.99900000</td><td style='text-align:right'>True</td></tr><tr><td style='text-align:left'>MET_IN_EX</td><td style='text-align:left'> 0.97039659</td><td style='text-align:left'> 0.01298523</td><td style='text-align:left'>(1.34%)</td><td style='text-align:left'>0.9</td><td style='text-align:left'> 0.00000000</td><td style='text-align:left'> 0.99900000</td><td style='text-align:right'>True</td></tr><tr><td style='text-align:left'>PROT_SYNTH_EX</td><td style='text-align:left'> 0.57489677</td><td style='text-align:left'> 0.17080872</td><td style='text-align:left'>(29.71%)</td><td style='text-align:left'>0.4</td><td style='text-align:left'> 0.00000000</td><td style='text-align:left'> 0.99900000</td><td style='text-align:right'>True</td></tr><tr><td style='text-align:left'>akb</td><td style='text-align:left'> 1003.00122</td><td style='text-align:left'> 1202.48412</td><td style='text-align:left'>(119.89%)</td><td style='text-align:left'>1000.0</td><td style='text-align:left'> 100.000000</td><td style='text-align:left'> 10000.0000</td><td style='text-align:right'>True</td></tr><tr><td style='text-align:left'>cyst</td><td style='text-align:left'> 6.83525458</td><td style='text-align:left'> 0.20970600</td><td style='text-align:left'>(3.07%)</td><td style='text-align:left'>13.563338626017718</td><td style='text-align:left'> 1.35633386</td><td style='text-align:left'> 135.633386</td><td style='text-align:right'>True</td></tr><tr><td style='text-align:left'>hcys</td><td style='text-align:left'> 13.2421202</td><td style='text-align:left'> 11.9359691</td><td style='text-align:left'>(90.14%)</td><td style='text-align:left'>10.0</td><td style='text-align:left'> 1.00000000</td><td style='text-align:left'> 100.000000</td><td style='text-align:right'>True</td></tr><tr><td style='text-align:left'>met</td><td style='text-align:left'> 458.499135</td><td style='text-align:left'> 57.6517895</td><td style='text-align:left'>(12.57%)</td><td style='text-align:left'>614.4062381005</td><td style='text-align:left'> 61.4406238</td><td style='text-align:left'> 6144.06238</td><td style='text-align:right'>True</td></tr><tr><td style='text-align:left'>metp</td><td style='text-align:left'> 23728.9891</td><td style='text-align:left'> 2816.16714</td><td style='text-align:left'>(11.87%)</td><td style='text-align:left'>23500.0</td><td style='text-align:left'> 2350.00000</td><td style='text-align:left'> 235000.000</td><td style='text-align:right'>True</td></tr><tr><td style='text-align:left'>sah</td><td style='text-align:left'> 1.82419901</td><td style='text-align:left'> 0.06084034</td><td style='text-align:left'>(3.34%)</td><td style='text-align:left'>2.11766175812231</td><td style='text-align:left'> 0.21176618</td><td style='text-align:left'> 21.1766176</td><td style='text-align:right'>True</td></tr><tr><td style='text-align:left'>sam</td><td style='text-align:left'> 116.075913</td><td style='text-align:left'> 19.7179076</td><td style='text-align:left'>(16.99%)</td><td style='text-align:left'>60.09874366706042</td><td style='text-align:left'> 6.00987437</td><td style='text-align:left'> 600.987437</td><td style='text-align:right'>True</td></tr></table>"
      ],
      "text/plain": [
       "Parameters([('CYSTS', <Parameter 'CYSTS', value=0.6722162232690405 +/- 0.112, bounds=[0.01:1000]>), ('METS', <Parameter 'METS', value=203.5712381807675 +/- 61.2, bounds=[0.01:1000]>), ('PROT_OUT', <Parameter 'PROT_OUT', value=508.545524107094 +/- 124, bounds=[0.01:1000]>), ('SAM_METH', <Parameter 'SAM_METH', value=336.61818098005676 +/- 60.9, bounds=[0.01:1000]>), ('AHCY_EX', <Parameter 'AHCY_EX', value=0.5933814762687395 +/- 499, bounds=[0:0.999]>), ('CYSTL_EX', <Parameter 'CYSTL_EX', value=0.15149682271358922 +/- 0.0713, bounds=[0:0.999]>), ('MET_IN_EX', <Parameter 'MET_IN_EX', value=0.9703965930733899 +/- 0.013, bounds=[0:0.999]>), ('PROT_SYNTH_EX', <Parameter 'PROT_SYNTH_EX', value=0.5748967745972964 +/- 0.171, bounds=[0:0.999]>), ('akb', <Parameter 'akb', value=1003.0012154104055 +/- 1.2e+03, bounds=[100.0:10000.0]>), ('cyst', <Parameter 'cyst', value=6.835254583394425 +/- 0.21, bounds=[1.3563338626017718:135.6333862601772]>), ('hcys', <Parameter 'hcys', value=13.24212019864983 +/- 11.9, bounds=[1.0:100.0]>), ('met', <Parameter 'met', value=458.4991346506836 +/- 57.7, bounds=[61.44062381005:6144.062381005]>), ('metp', <Parameter 'metp', value=23728.989077737668 +/- 2.82e+03, bounds=[2350.0:235000.0]>), ('sah', <Parameter 'sah', value=1.8241990057739945 +/- 0.0608, bounds=[0.21176617581223098:21.1766175812231]>), ('sam', <Parameter 'sam', value=116.07591325752269 +/- 19.7, bounds=[6.0098743667060415:600.9874366706042]>)])"
      ]
     },
     "execution_count": 86,
     "metadata": {},
     "output_type": "execute_result"
    }
   ],
   "source": [
    "model_fits['BJ-RAS'].minimizer_result.params"
   ]
  },
  {
   "cell_type": "code",
   "execution_count": 87,
   "id": "e3b4f1da-f80d-41dc-ad72-d80bbe1e9e2e",
   "metadata": {},
   "outputs": [
    {
     "data": {
      "text/html": [
       "<div>\n",
       "<style scoped>\n",
       "    .dataframe tbody tr th:only-of-type {\n",
       "        vertical-align: middle;\n",
       "    }\n",
       "\n",
       "    .dataframe tbody tr th {\n",
       "        vertical-align: top;\n",
       "    }\n",
       "\n",
       "    .dataframe thead th {\n",
       "        text-align: right;\n",
       "    }\n",
       "</style>\n",
       "<table border=\"1\" class=\"dataframe\">\n",
       "  <thead>\n",
       "    <tr style=\"text-align: right;\">\n",
       "      <th></th>\n",
       "      <th>net_flux</th>\n",
       "      <th>fwd_flux</th>\n",
       "      <th>rev_flux</th>\n",
       "    </tr>\n",
       "  </thead>\n",
       "  <tbody>\n",
       "    <tr>\n",
       "      <th>AHCY</th>\n",
       "      <td>336.618181</td>\n",
       "      <td>827.847629</td>\n",
       "      <td>491.229449</td>\n",
       "    </tr>\n",
       "    <tr>\n",
       "      <th>AKB_OUT</th>\n",
       "      <td>0.672216</td>\n",
       "      <td>0.672216</td>\n",
       "      <td>0.000000</td>\n",
       "    </tr>\n",
       "    <tr>\n",
       "      <th>CYSTL</th>\n",
       "      <td>0.672216</td>\n",
       "      <td>0.792238</td>\n",
       "      <td>0.120021</td>\n",
       "    </tr>\n",
       "    <tr>\n",
       "      <th>CYSTS</th>\n",
       "      <td>0.672216</td>\n",
       "      <td>0.672216</td>\n",
       "      <td>0.000000</td>\n",
       "    </tr>\n",
       "    <tr>\n",
       "      <th>HCYS_OUT</th>\n",
       "      <td>132.374727</td>\n",
       "      <td>132.374727</td>\n",
       "      <td>0.000000</td>\n",
       "    </tr>\n",
       "    <tr>\n",
       "      <th>MAT</th>\n",
       "      <td>336.618181</td>\n",
       "      <td>336.618181</td>\n",
       "      <td>0.000000</td>\n",
       "    </tr>\n",
       "    <tr>\n",
       "      <th>METS</th>\n",
       "      <td>203.571238</td>\n",
       "      <td>203.571238</td>\n",
       "      <td>0.000000</td>\n",
       "    </tr>\n",
       "    <tr>\n",
       "      <th>MET_IN</th>\n",
       "      <td>641.592467</td>\n",
       "      <td>21672.926650</td>\n",
       "      <td>21031.334183</td>\n",
       "    </tr>\n",
       "    <tr>\n",
       "      <th>PROT_OUT</th>\n",
       "      <td>508.545524</td>\n",
       "      <td>508.545524</td>\n",
       "      <td>0.000000</td>\n",
       "    </tr>\n",
       "    <tr>\n",
       "      <th>PROT_SYNTH</th>\n",
       "      <td>508.545524</td>\n",
       "      <td>1196.287146</td>\n",
       "      <td>687.741622</td>\n",
       "    </tr>\n",
       "    <tr>\n",
       "      <th>SAM_METH</th>\n",
       "      <td>336.618181</td>\n",
       "      <td>336.618181</td>\n",
       "      <td>0.000000</td>\n",
       "    </tr>\n",
       "  </tbody>\n",
       "</table>\n",
       "</div>"
      ],
      "text/plain": [
       "              net_flux      fwd_flux      rev_flux\n",
       "AHCY        336.618181    827.847629    491.229449\n",
       "AKB_OUT       0.672216      0.672216      0.000000\n",
       "CYSTL         0.672216      0.792238      0.120021\n",
       "CYSTS         0.672216      0.672216      0.000000\n",
       "HCYS_OUT    132.374727    132.374727      0.000000\n",
       "MAT         336.618181    336.618181      0.000000\n",
       "METS        203.571238    203.571238      0.000000\n",
       "MET_IN      641.592467  21672.926650  21031.334183\n",
       "PROT_OUT    508.545524    508.545524      0.000000\n",
       "PROT_SYNTH  508.545524   1196.287146    687.741622\n",
       "SAM_METH    336.618181    336.618181      0.000000"
      ]
     },
     "execution_count": 87,
     "metadata": {},
     "output_type": "execute_result"
    }
   ],
   "source": [
    "flux_model.get_flux_table(model_fits['BJ-RAS'].model_state.flux_state)"
   ]
  },
  {
   "cell_type": "markdown",
   "id": "aa972afa-bae6-42fd-87a0-23967ba1b8af",
   "metadata": {},
   "source": [
    "### Metabolite pool half-lives\n",
    "A metabolite pool with concentration $c$ and flux $v$ through the pool has half-lite $t = \\ln 2\\ c / v$"
   ]
  },
  {
   "cell_type": "code",
   "execution_count": 59,
   "id": "00b442f3-2ac7-4a7c-b982-6101eb1b382b",
   "metadata": {},
   "outputs": [],
   "source": [
    "def metabolite_halflife(flux_model, model_fit: ModelFit, reaction: str, metabolite: str):\n",
    "    flux = flux_model.get_flux_table(model_fit.model_state.flux_state).loc[reaction]['fwd_flux']\n",
    "    pool_size = model_fit.minimizer_result.params[metabolite].value\n",
    "    return np.log(2) * pool_size / flux"
   ]
  },
  {
   "cell_type": "code",
   "execution_count": 62,
   "id": "ef593de0-80c2-4108-ab4b-79a6f7510281",
   "metadata": {},
   "outputs": [
    {
     "data": {
      "text/plain": [
       "{'BJ-TERT': 0.22747196965627475, 'BJ-RAS': 0.2387185566485542}"
      ]
     },
     "execution_count": 62,
     "metadata": {},
     "output_type": "execute_result"
    }
   ],
   "source": [
    "{\n",
    "    cell_type: metabolite_halflife(flux_model, model_fits[cell_type], 'MAT', 'sam')\n",
    "    for cell_type in cell_types\n",
    "}"
   ]
  },
  {
   "cell_type": "markdown",
   "id": "e09ebed3-b4e3-4377-ae3e-f3a6074e2704",
   "metadata": {},
   "source": [
    "### Residuals"
   ]
  },
  {
   "cell_type": "code",
   "execution_count": 88,
   "id": "c0a2f7d8-9016-4cfa-b585-294ff00ffe98",
   "metadata": {},
   "outputs": [
    {
     "data": {
      "text/plain": [
       "[                cyst       met       sam\n",
       " time_hours                              \n",
       " 0.083333   -0.010224  0.705005 -0.810136\n",
       " 0.250000   -0.364342 -0.502161 -0.929755\n",
       " 0.500000   -1.977461 -0.242233  1.469032\n",
       " 1.000000   -0.425680 -0.297406  0.316120\n",
       " 5.000000    1.334225 -0.137365 -0.339220\n",
       " 24.000000  -0.306018 -0.951796 -0.904935,\n",
       "                 cyst       met       sam\n",
       " time_hours                              \n",
       " 0.083333   -0.010057  0.382159 -0.928891\n",
       " 0.250000   -0.205488  0.370345  0.523046\n",
       " 0.500000   -0.877217  0.261946  0.940804\n",
       " 1.000000   -2.790169  0.128792 -1.641145\n",
       " 5.000000    1.170210  0.454707 -0.841145\n",
       " 24.000000  -0.137909 -0.708861 -0.837992]"
      ]
     },
     "execution_count": 88,
     "metadata": {},
     "output_type": "execute_result"
    }
   ],
   "source": [
    "[\n",
    "    pd.DataFrame(\n",
    "        model_fits[cell_type].isotope_residual(),\n",
    "        columns=heavy_fraction_mean.loc[cell_type].columns,\n",
    "        index=heavy_fraction_mean.loc[cell_type].index\n",
    "    )\n",
    "    for cell_type in cell_types\n",
    "]"
   ]
  },
  {
   "cell_type": "markdown",
   "id": "040a143d-a311-4218-b0a5-0b8830d0e297",
   "metadata": {},
   "source": [
    "### Model fit statistics"
   ]
  },
  {
   "cell_type": "code",
   "execution_count": 89,
   "id": "b2ab24cb-0256-4e9c-aa7c-e9db85bc187e",
   "metadata": {},
   "outputs": [],
   "source": [
    "from scipy.stats import chi2"
   ]
  },
  {
   "cell_type": "code",
   "execution_count": 90,
   "id": "b290e39c-5c3f-45e1-8426-e15e194454d7",
   "metadata": {},
   "outputs": [
    {
     "data": {
      "text/plain": [
       "[15, 27]"
      ]
     },
     "execution_count": 90,
     "metadata": {},
     "output_type": "execute_result"
    }
   ],
   "source": [
    "n_param = len(model_fits['BJ-TERT'].minimizer_result.params)\n",
    "n_data_points = len(model_fits['BJ-TERT'].model_residual())\n",
    "[n_param, n_data_points]"
   ]
  },
  {
   "cell_type": "markdown",
   "id": "0e43671c-7722-45df-bf5f-431ef35c14d7",
   "metadata": {},
   "source": [
    "Degrees of freedom and $\\chi^2$ critical value"
   ]
  },
  {
   "cell_type": "code",
   "execution_count": 91,
   "id": "b5df371f-f0d8-4d17-a148-b1eb34dceeee",
   "metadata": {},
   "outputs": [
    {
     "data": {
      "text/plain": [
       "[12, 21.02606981748307]"
      ]
     },
     "execution_count": 91,
     "metadata": {},
     "output_type": "execute_result"
    }
   ],
   "source": [
    "model_fit_level = 0.05\n",
    "degrees_freedom = model_fits['BJ-TERT'].minimizer_result.nfree\n",
    "[degrees_freedom, chi2.isf(model_fit_level, degrees_freedom)]"
   ]
  },
  {
   "cell_type": "markdown",
   "id": "f034032a-1507-4e57-b66e-6d11a85e0f24",
   "metadata": {},
   "source": [
    "Sum of squared residuals and model rejection p-values"
   ]
  },
  {
   "cell_type": "code",
   "execution_count": 92,
   "id": "aab099f7-14b2-447b-9d31-2a7654123bc3",
   "metadata": {},
   "outputs": [
    {
     "data": {
      "text/html": [
       "<div>\n",
       "<style scoped>\n",
       "    .dataframe tbody tr th:only-of-type {\n",
       "        vertical-align: middle;\n",
       "    }\n",
       "\n",
       "    .dataframe tbody tr th {\n",
       "        vertical-align: top;\n",
       "    }\n",
       "\n",
       "    .dataframe thead th {\n",
       "        text-align: right;\n",
       "    }\n",
       "</style>\n",
       "<table border=\"1\" class=\"dataframe\">\n",
       "  <thead>\n",
       "    <tr style=\"text-align: right;\">\n",
       "      <th></th>\n",
       "      <th>chi_square</th>\n",
       "      <th>p_value</th>\n",
       "    </tr>\n",
       "  </thead>\n",
       "  <tbody>\n",
       "    <tr>\n",
       "      <th>BJ-TERT</th>\n",
       "      <td>13.539444</td>\n",
       "      <td>0.331079</td>\n",
       "    </tr>\n",
       "    <tr>\n",
       "      <th>BJ-RAS</th>\n",
       "      <td>17.351867</td>\n",
       "      <td>0.136834</td>\n",
       "    </tr>\n",
       "  </tbody>\n",
       "</table>\n",
       "</div>"
      ],
      "text/plain": [
       "         chi_square   p_value\n",
       "BJ-TERT   13.539444  0.331079\n",
       "BJ-RAS    17.351867  0.136834"
      ]
     },
     "execution_count": 92,
     "metadata": {},
     "output_type": "execute_result"
    }
   ],
   "source": [
    "# SOMETHING WRONG WITH THE FIT HERE!\n",
    "pd.DataFrame(\n",
    "    [\n",
    "        [\n",
    "            model_fits[cell_type].minimizer_result.chisqr,\n",
    "            1 - chi2.cdf(model_fits[cell_type].minimizer_result.chisqr, degrees_freedom)\n",
    "        ]\n",
    "        for cell_type in cell_types\n",
    "    ],\n",
    "    index=cell_types, columns=['chi_square', 'p_value']\n",
    ")"
   ]
  },
  {
   "cell_type": "markdown",
   "id": "cdf9bc70-1c28-4789-a4b7-e5085e89deac",
   "metadata": {},
   "source": [
    "### Plot fitted data"
   ]
  },
  {
   "cell_type": "code",
   "execution_count": 93,
   "id": "7930119c-8991-4060-90df-0216c3b3ddcc",
   "metadata": {},
   "outputs": [],
   "source": [
    "t_simulated = np.arange(0, 24, 0.05)"
   ]
  },
  {
   "cell_type": "code",
   "execution_count": 94,
   "id": "3210116f-ef7f-472b-a11b-5168dfb2d5dd",
   "metadata": {},
   "outputs": [],
   "source": [
    "def plot_file_name(cell_type: str, log_scale: bool) -> str:\n",
    "    plot_name = '13C-met_fitted_data'\n",
    "    if log_scale:\n",
    "        scale_suffix = 'logscale'\n",
    "    else:\n",
    "        scale_suffix = 'linscale'\n",
    "    return \"_\".join([plot_name, cell_type, scale_suffix]) + '.pdf'"
   ]
  },
  {
   "cell_type": "code",
   "execution_count": 95,
   "id": "76752c0b-5596-4470-8822-d8ba8c8f1e27",
   "metadata": {},
   "outputs": [],
   "source": [
    "x_simulated = pd.concat(\n",
    "    [\n",
    "        prepend_index_level(\n",
    "            model_fits[cell_type].model_state.simulate_to_pandas(t_simulated),\n",
    "            cell_type, name='cell_type'\n",
    "        )\n",
    "        for cell_type in cell_types\n",
    "    ]\n",
    ")"
   ]
  },
  {
   "cell_type": "code",
   "execution_count": 96,
   "id": "35e2cd6a-67ee-409a-b6a6-5c620dcd1f08",
   "metadata": {
    "scrolled": true
   },
   "outputs": [
    {
     "data": {
      "image/png": "[encoded data removed]",
      "text/plain": [
       "<Figure size 1500x300 with 7 Axes>"
      ]
     },
     "metadata": {},
     "output_type": "display_data"
    },
    {
     "data": {
      "image/png": "[encoded data removed]",
      "text/plain": [
       "<Figure size 1500x300 with 7 Axes>"
      ]
     },
     "metadata": {},
     "output_type": "display_data"
    },
    {
     "data": {
      "image/png": "[encoded data removed]",
      "text/plain": [
       "<Figure size 1500x300 with 7 Axes>"
      ]
     },
     "metadata": {},
     "output_type": "display_data"
    },
    {
     "data": {
      "image/png": "[encoded data removed]",
      "text/plain": [
       "<Figure size 1500x300 with 7 Axes>"
      ]
     },
     "metadata": {},
     "output_type": "display_data"
    }
   ],
   "source": [
    "for cell_type in cell_types:\n",
    "    for use_log_scale in [False, True]:\n",
    "        plot_model_fit(\n",
    "            flux_model, x_simulated.loc[cell_type], heavy_fraction_mean.loc[cell_type],\n",
    "            use_log_scale=use_log_scale\n",
    "        )\n",
    "        plt.suptitle(cell_type)\n",
    "        plt.tight_layout()\n",
    "        plt.savefig(plots_path / plot_file_name(cell_type, use_log_scale))"
   ]
  },
  {
   "cell_type": "markdown",
   "id": "e16a9a59-b4b1-41de-af56-4b7d6a9f6596",
   "metadata": {},
   "source": [
    "### Confidence intervals on estimated net fluxes\n",
    "These are two-sided linearized confidence intervals, based on the parameter covariance from lmfit"
   ]
  },
  {
   "cell_type": "code",
   "execution_count": 98,
   "id": "891e5373-92a5-42d5-b6ae-d2e29a154aaa",
   "metadata": {},
   "outputs": [
    {
     "data": {
      "text/html": [
       "<div>\n",
       "<style scoped>\n",
       "    .dataframe tbody tr th:only-of-type {\n",
       "        vertical-align: middle;\n",
       "    }\n",
       "\n",
       "    .dataframe tbody tr th {\n",
       "        vertical-align: top;\n",
       "    }\n",
       "\n",
       "    .dataframe thead th {\n",
       "        text-align: right;\n",
       "    }\n",
       "</style>\n",
       "<table border=\"1\" class=\"dataframe\">\n",
       "  <thead>\n",
       "    <tr style=\"text-align: right;\">\n",
       "      <th></th>\n",
       "      <th></th>\n",
       "      <th>net</th>\n",
       "      <th>std err</th>\n",
       "      <th>ci_half-width</th>\n",
       "      <th>ci_lower</th>\n",
       "      <th>ci_upper</th>\n",
       "    </tr>\n",
       "    <tr>\n",
       "      <th>cell_type</th>\n",
       "      <th>reaction</th>\n",
       "      <th></th>\n",
       "      <th></th>\n",
       "      <th></th>\n",
       "      <th></th>\n",
       "      <th></th>\n",
       "    </tr>\n",
       "  </thead>\n",
       "  <tbody>\n",
       "    <tr>\n",
       "      <th rowspan=\"6\" valign=\"top\">BJ-TERT</th>\n",
       "      <th>CYSTS</th>\n",
       "      <td>3.918462</td>\n",
       "      <td>0.734904</td>\n",
       "      <td>1.208810</td>\n",
       "      <td>2.709652</td>\n",
       "      <td>5.127272</td>\n",
       "    </tr>\n",
       "    <tr>\n",
       "      <th>HCYS_OUT</th>\n",
       "      <td>149.877087</td>\n",
       "      <td>31.719494</td>\n",
       "      <td>52.173925</td>\n",
       "      <td>97.703161</td>\n",
       "      <td>202.051012</td>\n",
       "    </tr>\n",
       "    <tr>\n",
       "      <th>METS</th>\n",
       "      <td>26.037927</td>\n",
       "      <td>37.608795</td>\n",
       "      <td>61.860963</td>\n",
       "      <td>-35.823036</td>\n",
       "      <td>87.898891</td>\n",
       "    </tr>\n",
       "    <tr>\n",
       "      <th>MET_IN</th>\n",
       "      <td>569.383462</td>\n",
       "      <td>93.623437</td>\n",
       "      <td>153.996850</td>\n",
       "      <td>415.386611</td>\n",
       "      <td>723.380312</td>\n",
       "    </tr>\n",
       "    <tr>\n",
       "      <th>PROT_OUT</th>\n",
       "      <td>415.587913</td>\n",
       "      <td>88.104056</td>\n",
       "      <td>144.918275</td>\n",
       "      <td>270.669637</td>\n",
       "      <td>560.506188</td>\n",
       "    </tr>\n",
       "    <tr>\n",
       "      <th>SAM_METH</th>\n",
       "      <td>179.833476</td>\n",
       "      <td>20.072712</td>\n",
       "      <td>33.016674</td>\n",
       "      <td>146.816802</td>\n",
       "      <td>212.850150</td>\n",
       "    </tr>\n",
       "    <tr>\n",
       "      <th rowspan=\"6\" valign=\"top\">BJ-RAS</th>\n",
       "      <th>CYSTS</th>\n",
       "      <td>0.672216</td>\n",
       "      <td>0.111653</td>\n",
       "      <td>0.183652</td>\n",
       "      <td>0.488564</td>\n",
       "      <td>0.855869</td>\n",
       "    </tr>\n",
       "    <tr>\n",
       "      <th>HCYS_OUT</th>\n",
       "      <td>132.374727</td>\n",
       "      <td>5.488244</td>\n",
       "      <td>9.027358</td>\n",
       "      <td>123.347369</td>\n",
       "      <td>141.402085</td>\n",
       "    </tr>\n",
       "    <tr>\n",
       "      <th>METS</th>\n",
       "      <td>203.571238</td>\n",
       "      <td>61.183321</td>\n",
       "      <td>100.637607</td>\n",
       "      <td>102.933631</td>\n",
       "      <td>304.208846</td>\n",
       "    </tr>\n",
       "    <tr>\n",
       "      <th>MET_IN</th>\n",
       "      <td>641.592467</td>\n",
       "      <td>124.277554</td>\n",
       "      <td>204.418385</td>\n",
       "      <td>437.174082</td>\n",
       "      <td>846.010852</td>\n",
       "    </tr>\n",
       "    <tr>\n",
       "      <th>PROT_OUT</th>\n",
       "      <td>508.545524</td>\n",
       "      <td>124.156310</td>\n",
       "      <td>204.218957</td>\n",
       "      <td>304.326567</td>\n",
       "      <td>712.764481</td>\n",
       "    </tr>\n",
       "    <tr>\n",
       "      <th>SAM_METH</th>\n",
       "      <td>336.618181</td>\n",
       "      <td>60.932934</td>\n",
       "      <td>100.225758</td>\n",
       "      <td>236.392423</td>\n",
       "      <td>436.843939</td>\n",
       "    </tr>\n",
       "  </tbody>\n",
       "</table>\n",
       "</div>"
      ],
      "text/plain": [
       "                           net     std err  ci_half-width    ci_lower  \\\n",
       "cell_type reaction                                                      \n",
       "BJ-TERT   CYSTS       3.918462    0.734904       1.208810    2.709652   \n",
       "          HCYS_OUT  149.877087   31.719494      52.173925   97.703161   \n",
       "          METS       26.037927   37.608795      61.860963  -35.823036   \n",
       "          MET_IN    569.383462   93.623437     153.996850  415.386611   \n",
       "          PROT_OUT  415.587913   88.104056     144.918275  270.669637   \n",
       "          SAM_METH  179.833476   20.072712      33.016674  146.816802   \n",
       "BJ-RAS    CYSTS       0.672216    0.111653       0.183652    0.488564   \n",
       "          HCYS_OUT  132.374727    5.488244       9.027358  123.347369   \n",
       "          METS      203.571238   61.183321     100.637607  102.933631   \n",
       "          MET_IN    641.592467  124.277554     204.418385  437.174082   \n",
       "          PROT_OUT  508.545524  124.156310     204.218957  304.326567   \n",
       "          SAM_METH  336.618181   60.932934     100.225758  236.392423   \n",
       "\n",
       "                      ci_upper  \n",
       "cell_type reaction              \n",
       "BJ-TERT   CYSTS       5.127272  \n",
       "          HCYS_OUT  202.051012  \n",
       "          METS       87.898891  \n",
       "          MET_IN    723.380312  \n",
       "          PROT_OUT  560.506188  \n",
       "          SAM_METH  212.850150  \n",
       "BJ-RAS    CYSTS       0.855869  \n",
       "          HCYS_OUT  141.402085  \n",
       "          METS      304.208846  \n",
       "          MET_IN    846.010852  \n",
       "          PROT_OUT  712.764481  \n",
       "          SAM_METH  436.843939  "
      ]
     },
     "execution_count": 98,
     "metadata": {},
     "output_type": "execute_result"
    }
   ],
   "source": [
    "ci_reactions = ['CYSTS', 'HCYS_OUT', 'METS', 'MET_IN', 'PROT_OUT', 'SAM_METH']\n",
    "ci_table = pd.concat(\n",
    "    [\n",
    "        prepend_index_level(\n",
    "            confidence_intervals_table(flux_model, model_fits[cell_type], ci_level=0.9).loc[ci_reactions],\n",
    "            cell_type, name='cell_type'\n",
    "        )\n",
    "        for cell_type in cell_types\n",
    "    ]\n",
    ")\n",
    "ci_table"
   ]
  },
  {
   "cell_type": "code",
   "execution_count": 100,
   "id": "99569e93-00c1-4fb1-a295-461d9706991a",
   "metadata": {},
   "outputs": [],
   "source": [
    "# since seaborn (strangely) does not support drawing error bars from specified values,\n",
    "# we provide the (max, min) range as values and plot using median (midrange) and max/min for error bars\n",
    "ci_table_for_seaborn = ci_table[['ci_lower', 'ci_upper']].melt(ignore_index=False).sort_index(ascending=[False, True]).reset_index()"
   ]
  },
  {
   "cell_type": "code",
   "execution_count": 102,
   "id": "29da510a-abce-4f26-b4c4-167dc8c1fce7",
   "metadata": {},
   "outputs": [
    {
     "data": {
      "image/png": "[encoded data removed]",
      "text/plain": [
       "<Figure size 640x480 with 1 Axes>"
      ]
     },
     "metadata": {},
     "output_type": "display_data"
    }
   ],
   "source": [
    "sns.barplot(\n",
    "    ci_table_for_seaborn,\n",
    "    x='reaction', y='value', hue='cell_type',\n",
    "    estimator=np.median, errorbar=lambda x: [x.min(), x.max()], capsize=0.3\n",
    ")\n",
    "plt.savefig(plots_path / '13C-met_flux_ci.pdf')"
   ]
  }
 ],
 "metadata": {
  "kernelspec": {
   "display_name": "Python 3 (ipykernel)",
   "language": "python",
   "name": "python3"
  },
  "language_info": {
   "codemirror_mode": {
    "name": "ipython",
    "version": 3
   },
   "file_extension": ".py",
   "mimetype": "text/x-python",
   "name": "python",
   "nbconvert_exporter": "python",
   "pygments_lexer": "ipython3",
   "version": "3.12.4"
  }
 },
 "nbformat": 4,
 "nbformat_minor": 5
}
