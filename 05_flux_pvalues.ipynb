{
 "cells": [
  {
   "cell_type": "markdown",
   "id": "a8bede66-b957-4932-9354-b2e7edb7d699",
   "metadata": {},
   "source": [
    "# Hypothesis tests from confidence intervals"
   ]
  },
  {
   "cell_type": "code",
   "execution_count": 52,
   "id": "dda1d281-042f-4c8f-b7ba-89a344dc45ec",
   "metadata": {},
   "outputs": [],
   "source": [
    "import pandas as pd\n",
    "from scipy.stats import norm\n",
    "\n",
    "from common import *"
   ]
  },
  {
   "cell_type": "markdown",
   "id": "536fb584-7067-4d74-8632-f2bd91b6f498",
   "metadata": {},
   "source": [
    "## Import confidence interval tables"
   ]
  },
  {
   "cell_type": "code",
   "execution_count": 5,
   "id": "0b124fb2-6eeb-4b32-9848-130901476c9d",
   "metadata": {},
   "outputs": [],
   "source": [
    "met_ci_table = pd.read_csv(tables_path / 'met_flux_ci.csv')\n",
    "hcys_ci_table = pd.read_csv(tables_path / 'hcys_flux_ci.csv')"
   ]
  },
  {
   "cell_type": "code",
   "execution_count": 11,
   "id": "3946a23f-e787-43f3-9fbd-3c91fac24927",
   "metadata": {},
   "outputs": [],
   "source": [
    "# merge into a single dataframe\n",
    "ci_table = pd.concat(\n",
    "    [\n",
    "        met_ci_table.assign(condition='met').set_index(['condition', 'cell_type', 'reaction']).sort_index(),\n",
    "        hcys_ci_table.assign(condition='hcys').set_index(['condition', 'cell_type', 'reaction']).sort_index(),\n",
    "    ]\n",
    ")"
   ]
  },
  {
   "cell_type": "code",
   "execution_count": 14,
   "id": "a1c3b5ad-93af-4dc8-8571-89e557faff20",
   "metadata": {},
   "outputs": [
    {
     "data": {
      "text/html": [
       "<div>\n",
       "<style scoped>\n",
       "    .dataframe tbody tr th:only-of-type {\n",
       "        vertical-align: middle;\n",
       "    }\n",
       "\n",
       "    .dataframe tbody tr th {\n",
       "        vertical-align: top;\n",
       "    }\n",
       "\n",
       "    .dataframe thead th {\n",
       "        text-align: right;\n",
       "    }\n",
       "</style>\n",
       "<table border=\"1\" class=\"dataframe\">\n",
       "  <thead>\n",
       "    <tr style=\"text-align: right;\">\n",
       "      <th></th>\n",
       "      <th></th>\n",
       "      <th></th>\n",
       "      <th>net</th>\n",
       "      <th>std err</th>\n",
       "      <th>ci_half-width</th>\n",
       "      <th>ci_lower</th>\n",
       "      <th>ci_upper</th>\n",
       "    </tr>\n",
       "    <tr>\n",
       "      <th>condition</th>\n",
       "      <th>cell_type</th>\n",
       "      <th>reaction</th>\n",
       "      <th></th>\n",
       "      <th></th>\n",
       "      <th></th>\n",
       "      <th></th>\n",
       "      <th></th>\n",
       "    </tr>\n",
       "  </thead>\n",
       "  <tbody>\n",
       "    <tr>\n",
       "      <th rowspan=\"12\" valign=\"top\">met</th>\n",
       "      <th rowspan=\"6\" valign=\"top\">BJ-RAS</th>\n",
       "      <th>CYSTS</th>\n",
       "      <td>0.672216</td>\n",
       "      <td>0.111653</td>\n",
       "      <td>0.183652</td>\n",
       "      <td>0.488564</td>\n",
       "      <td>0.855869</td>\n",
       "    </tr>\n",
       "    <tr>\n",
       "      <th>HCYS_OUT</th>\n",
       "      <td>132.374727</td>\n",
       "      <td>5.488244</td>\n",
       "      <td>9.027358</td>\n",
       "      <td>123.347369</td>\n",
       "      <td>141.402085</td>\n",
       "    </tr>\n",
       "    <tr>\n",
       "      <th>METS</th>\n",
       "      <td>203.571238</td>\n",
       "      <td>61.183321</td>\n",
       "      <td>100.637607</td>\n",
       "      <td>102.933631</td>\n",
       "      <td>304.208846</td>\n",
       "    </tr>\n",
       "    <tr>\n",
       "      <th>MET_IN</th>\n",
       "      <td>641.592467</td>\n",
       "      <td>124.277554</td>\n",
       "      <td>204.418385</td>\n",
       "      <td>437.174082</td>\n",
       "      <td>846.010852</td>\n",
       "    </tr>\n",
       "    <tr>\n",
       "      <th>PROT_OUT</th>\n",
       "      <td>508.545524</td>\n",
       "      <td>124.156310</td>\n",
       "      <td>204.218957</td>\n",
       "      <td>304.326567</td>\n",
       "      <td>712.764481</td>\n",
       "    </tr>\n",
       "    <tr>\n",
       "      <th>SAM_METH</th>\n",
       "      <td>336.618181</td>\n",
       "      <td>60.932934</td>\n",
       "      <td>100.225758</td>\n",
       "      <td>236.392423</td>\n",
       "      <td>436.843939</td>\n",
       "    </tr>\n",
       "    <tr>\n",
       "      <th rowspan=\"6\" valign=\"top\">BJ-TERT</th>\n",
       "      <th>CYSTS</th>\n",
       "      <td>3.918462</td>\n",
       "      <td>0.734904</td>\n",
       "      <td>1.208810</td>\n",
       "      <td>2.709652</td>\n",
       "      <td>5.127272</td>\n",
       "    </tr>\n",
       "    <tr>\n",
       "      <th>HCYS_OUT</th>\n",
       "      <td>149.877087</td>\n",
       "      <td>31.719494</td>\n",
       "      <td>52.173925</td>\n",
       "      <td>97.703161</td>\n",
       "      <td>202.051012</td>\n",
       "    </tr>\n",
       "    <tr>\n",
       "      <th>METS</th>\n",
       "      <td>26.037927</td>\n",
       "      <td>37.608795</td>\n",
       "      <td>61.860963</td>\n",
       "      <td>-35.823036</td>\n",
       "      <td>87.898891</td>\n",
       "    </tr>\n",
       "    <tr>\n",
       "      <th>MET_IN</th>\n",
       "      <td>569.383462</td>\n",
       "      <td>93.623437</td>\n",
       "      <td>153.996850</td>\n",
       "      <td>415.386611</td>\n",
       "      <td>723.380312</td>\n",
       "    </tr>\n",
       "    <tr>\n",
       "      <th>PROT_OUT</th>\n",
       "      <td>415.587913</td>\n",
       "      <td>88.104056</td>\n",
       "      <td>144.918275</td>\n",
       "      <td>270.669637</td>\n",
       "      <td>560.506188</td>\n",
       "    </tr>\n",
       "    <tr>\n",
       "      <th>SAM_METH</th>\n",
       "      <td>179.833476</td>\n",
       "      <td>20.072712</td>\n",
       "      <td>33.016674</td>\n",
       "      <td>146.816802</td>\n",
       "      <td>212.850150</td>\n",
       "    </tr>\n",
       "    <tr>\n",
       "      <th rowspan=\"12\" valign=\"top\">hcys</th>\n",
       "      <th rowspan=\"6\" valign=\"top\">BJ-RAS</th>\n",
       "      <th>CYSTS</th>\n",
       "      <td>2.113185</td>\n",
       "      <td>0.373083</td>\n",
       "      <td>0.613667</td>\n",
       "      <td>1.499518</td>\n",
       "      <td>2.726852</td>\n",
       "    </tr>\n",
       "    <tr>\n",
       "      <th>HCYS_IN</th>\n",
       "      <td>66.493245</td>\n",
       "      <td>18.906584</td>\n",
       "      <td>31.098564</td>\n",
       "      <td>35.394681</td>\n",
       "      <td>97.591808</td>\n",
       "    </tr>\n",
       "    <tr>\n",
       "      <th>METS</th>\n",
       "      <td>97.979346</td>\n",
       "      <td>22.090292</td>\n",
       "      <td>36.335297</td>\n",
       "      <td>61.644049</td>\n",
       "      <td>134.314643</td>\n",
       "    </tr>\n",
       "    <tr>\n",
       "      <th>MET_OUT</th>\n",
       "      <td>3.645315</td>\n",
       "      <td>1.785672</td>\n",
       "      <td>2.937169</td>\n",
       "      <td>0.708146</td>\n",
       "      <td>6.582484</td>\n",
       "    </tr>\n",
       "    <tr>\n",
       "      <th>PROT_OUT</th>\n",
       "      <td>60.734745</td>\n",
       "      <td>18.814839</td>\n",
       "      <td>30.947656</td>\n",
       "      <td>29.787089</td>\n",
       "      <td>91.682400</td>\n",
       "    </tr>\n",
       "    <tr>\n",
       "      <th>SAM_METH</th>\n",
       "      <td>33.599286</td>\n",
       "      <td>11.052983</td>\n",
       "      <td>18.180540</td>\n",
       "      <td>15.418746</td>\n",
       "      <td>51.779826</td>\n",
       "    </tr>\n",
       "    <tr>\n",
       "      <th rowspan=\"6\" valign=\"top\">BJ-TERT</th>\n",
       "      <th>CYSTS</th>\n",
       "      <td>3.002684</td>\n",
       "      <td>0.824304</td>\n",
       "      <td>1.355859</td>\n",
       "      <td>1.646825</td>\n",
       "      <td>4.358543</td>\n",
       "    </tr>\n",
       "    <tr>\n",
       "      <th>HCYS_IN</th>\n",
       "      <td>276.552904</td>\n",
       "      <td>73.946363</td>\n",
       "      <td>121.630944</td>\n",
       "      <td>154.921960</td>\n",
       "      <td>398.183848</td>\n",
       "    </tr>\n",
       "    <tr>\n",
       "      <th>METS</th>\n",
       "      <td>290.067417</td>\n",
       "      <td>74.165573</td>\n",
       "      <td>121.991512</td>\n",
       "      <td>168.075905</td>\n",
       "      <td>412.058929</td>\n",
       "    </tr>\n",
       "    <tr>\n",
       "      <th>MET_OUT</th>\n",
       "      <td>15.435811</td>\n",
       "      <td>14.060181</td>\n",
       "      <td>23.126940</td>\n",
       "      <td>-7.691129</td>\n",
       "      <td>38.562750</td>\n",
       "    </tr>\n",
       "    <tr>\n",
       "      <th>PROT_OUT</th>\n",
       "      <td>258.114410</td>\n",
       "      <td>73.453783</td>\n",
       "      <td>120.820721</td>\n",
       "      <td>137.293689</td>\n",
       "      <td>378.935131</td>\n",
       "    </tr>\n",
       "    <tr>\n",
       "      <th>SAM_METH</th>\n",
       "      <td>16.517197</td>\n",
       "      <td>5.444020</td>\n",
       "      <td>8.954616</td>\n",
       "      <td>7.562581</td>\n",
       "      <td>25.471813</td>\n",
       "    </tr>\n",
       "  </tbody>\n",
       "</table>\n",
       "</div>"
      ],
      "text/plain": [
       "                                     net     std err  ci_half-width  \\\n",
       "condition cell_type reaction                                          \n",
       "met       BJ-RAS    CYSTS       0.672216    0.111653       0.183652   \n",
       "                    HCYS_OUT  132.374727    5.488244       9.027358   \n",
       "                    METS      203.571238   61.183321     100.637607   \n",
       "                    MET_IN    641.592467  124.277554     204.418385   \n",
       "                    PROT_OUT  508.545524  124.156310     204.218957   \n",
       "                    SAM_METH  336.618181   60.932934     100.225758   \n",
       "          BJ-TERT   CYSTS       3.918462    0.734904       1.208810   \n",
       "                    HCYS_OUT  149.877087   31.719494      52.173925   \n",
       "                    METS       26.037927   37.608795      61.860963   \n",
       "                    MET_IN    569.383462   93.623437     153.996850   \n",
       "                    PROT_OUT  415.587913   88.104056     144.918275   \n",
       "                    SAM_METH  179.833476   20.072712      33.016674   \n",
       "hcys      BJ-RAS    CYSTS       2.113185    0.373083       0.613667   \n",
       "                    HCYS_IN    66.493245   18.906584      31.098564   \n",
       "                    METS       97.979346   22.090292      36.335297   \n",
       "                    MET_OUT     3.645315    1.785672       2.937169   \n",
       "                    PROT_OUT   60.734745   18.814839      30.947656   \n",
       "                    SAM_METH   33.599286   11.052983      18.180540   \n",
       "          BJ-TERT   CYSTS       3.002684    0.824304       1.355859   \n",
       "                    HCYS_IN   276.552904   73.946363     121.630944   \n",
       "                    METS      290.067417   74.165573     121.991512   \n",
       "                    MET_OUT    15.435811   14.060181      23.126940   \n",
       "                    PROT_OUT  258.114410   73.453783     120.820721   \n",
       "                    SAM_METH   16.517197    5.444020       8.954616   \n",
       "\n",
       "                                ci_lower    ci_upper  \n",
       "condition cell_type reaction                          \n",
       "met       BJ-RAS    CYSTS       0.488564    0.855869  \n",
       "                    HCYS_OUT  123.347369  141.402085  \n",
       "                    METS      102.933631  304.208846  \n",
       "                    MET_IN    437.174082  846.010852  \n",
       "                    PROT_OUT  304.326567  712.764481  \n",
       "                    SAM_METH  236.392423  436.843939  \n",
       "          BJ-TERT   CYSTS       2.709652    5.127272  \n",
       "                    HCYS_OUT   97.703161  202.051012  \n",
       "                    METS      -35.823036   87.898891  \n",
       "                    MET_IN    415.386611  723.380312  \n",
       "                    PROT_OUT  270.669637  560.506188  \n",
       "                    SAM_METH  146.816802  212.850150  \n",
       "hcys      BJ-RAS    CYSTS       1.499518    2.726852  \n",
       "                    HCYS_IN    35.394681   97.591808  \n",
       "                    METS       61.644049  134.314643  \n",
       "                    MET_OUT     0.708146    6.582484  \n",
       "                    PROT_OUT   29.787089   91.682400  \n",
       "                    SAM_METH   15.418746   51.779826  \n",
       "          BJ-TERT   CYSTS       1.646825    4.358543  \n",
       "                    HCYS_IN   154.921960  398.183848  \n",
       "                    METS      168.075905  412.058929  \n",
       "                    MET_OUT    -7.691129   38.562750  \n",
       "                    PROT_OUT  137.293689  378.935131  \n",
       "                    SAM_METH    7.562581   25.471813  "
      ]
     },
     "execution_count": 14,
     "metadata": {},
     "output_type": "execute_result"
    }
   ],
   "source": [
    "ci_table"
   ]
  },
  {
   "cell_type": "markdown",
   "id": "8ac2d588-ae9d-4a75-b07b-049ee6516a27",
   "metadata": {},
   "source": [
    "## Hypothesis tests\n",
    "\n",
    "Assume net flux to be a normal distributed variable $X$ with true mean $\\mu$. We have an observation $\\bar{x}$ of the mean $\\bar{X}$ with standard standard error $s = \\sigma / n$ (assumed known). The variable $Z = (\\bar{X} - \\mu) / (\\sigma/n)$ is then $N(0, 1)$. For testing the difference between two estimates, the statistic $(\\bar{X}_1 - \\bar{X}_2)/\\sqrt(s_1^2 + s_2^2)$ is also $N(0, 1)$."
   ]
  },
  {
   "cell_type": "code",
   "execution_count": 72,
   "id": "77769582-ffd3-4ace-88c2-91e1fc3338b5",
   "metadata": {},
   "outputs": [],
   "source": [
    "# compute a two-sided test p-value for a test table with conditions in rows\n",
    "def normal_diff_test(test_table):\n",
    "    means = []\n",
    "    std_errs = []\n",
    "    for index, row in test_table.iterrows():\n",
    "        means.append(row['net'])\n",
    "        std_errs.append(row['std err'])\n",
    "    # two-sample z-statistic \n",
    "    z = (means[1] - means[0]) / np.sqrt(std_errs[0]**2 + std_errs[1]**2)\n",
    "    # two-sided tail p-value\n",
    "    return (1 - norm.cdf(abs(z))) * 2"
   ]
  },
  {
   "cell_type": "markdown",
   "id": "a0a1498c-8bdb-405b-a893-6881e3e75a00",
   "metadata": {},
   "source": [
    "Slice out values of interest from the CI table and perform tests"
   ]
  },
  {
   "cell_type": "code",
   "execution_count": 73,
   "id": "086580bc-0300-42c0-908a-78ad5115286b",
   "metadata": {},
   "outputs": [
    {
     "data": {
      "text/plain": [
       "0.0014978340293727577"
      ]
     },
     "execution_count": 73,
     "metadata": {},
     "output_type": "execute_result"
    }
   ],
   "source": [
    "normal_diff_test(ci_table.xs(('BJ-TERT', 'METS'), level=('cell_type', 'reaction')))"
   ]
  },
  {
   "cell_type": "code",
   "execution_count": 74,
   "id": "26e717b8-893d-4227-9d9c-d236c07cdf17",
   "metadata": {},
   "outputs": [
    {
     "data": {
      "text/plain": [
       "0.10453265110500909"
      ]
     },
     "execution_count": 74,
     "metadata": {},
     "output_type": "execute_result"
    }
   ],
   "source": [
    "normal_diff_test(ci_table.xs(('BJ-RAS', 'METS'), level=('cell_type', 'reaction')))"
   ]
  },
  {
   "cell_type": "code",
   "execution_count": 75,
   "id": "15e3cc7b-7982-4931-814a-b86a5baac645",
   "metadata": {},
   "outputs": [
    {
     "data": {
      "text/plain": [
       "3.9968028886505635e-15"
      ]
     },
     "execution_count": 75,
     "metadata": {},
     "output_type": "execute_result"
    }
   ],
   "source": [
    "normal_diff_test(ci_table.xs(('BJ-TERT', 'SAM_METH'), level=('cell_type', 'reaction')))"
   ]
  },
  {
   "cell_type": "code",
   "execution_count": 76,
   "id": "e7bbc264-1e99-4d2c-b652-576e9420a2d5",
   "metadata": {},
   "outputs": [
    {
     "data": {
      "text/plain": [
       "9.924033963493173e-07"
      ]
     },
     "execution_count": 76,
     "metadata": {},
     "output_type": "execute_result"
    }
   ],
   "source": [
    "normal_diff_test(ci_table.xs(('BJ-RAS', 'SAM_METH'), level=('cell_type', 'reaction')))"
   ]
  }
 ],
 "metadata": {
  "kernelspec": {
   "display_name": "Python 3 (ipykernel)",
   "language": "python",
   "name": "python3"
  },
  "language_info": {
   "codemirror_mode": {
    "name": "ipython",
    "version": 3
   },
   "file_extension": ".py",
   "mimetype": "text/x-python",
   "name": "python",
   "nbconvert_exporter": "python",
   "pygments_lexer": "ipython3",
   "version": "3.12.4"
  }
 },
 "nbformat": 4,
 "nbformat_minor": 5
}
