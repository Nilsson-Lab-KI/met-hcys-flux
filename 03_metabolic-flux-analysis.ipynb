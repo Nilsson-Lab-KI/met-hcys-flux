{
 "cells": [
  {
   "cell_type": "markdown",
   "id": "4852a0e8-c791-40a0-8c9d-7d509b8ce9a6",
   "metadata": {},
   "source": [
    "# Flux analysis, methionine tracing"
   ]
  },
  {
   "cell_type": "code",
   "execution_count": 103,
   "id": "9357ca72-c572-4402-9292-2b1a8d4d956a",
   "metadata": {},
   "outputs": [],
   "source": [
    "from collections import defaultdict\n",
    "import matplotlib\n",
    "import matplotlib.pyplot as plt\n",
    "import numpy as np\n",
    "import pandas as pd\n",
    "from pathlib import Path\n",
    "import seaborn as sns\n",
    "from scipy.stats import norm\n",
    "import sys"
   ]
  },
  {
   "cell_type": "code",
   "execution_count": 2,
   "id": "1c01e199-71e0-4dfd-92e4-1021dd1f3b8d",
   "metadata": {},
   "outputs": [],
   "source": [
    "#  path to simpleflux package \n",
    "sys.path.append('C:/code/python/simpleflux/src')\n",
    "from simpleflux.model import FluxModel, FluxState\n",
    "from simpleflux.modelstate import ModelState\n",
    "from simpleflux.fitting import ModelFit"
   ]
  },
  {
   "cell_type": "code",
   "execution_count": 41,
   "id": "35f00c3f-32a5-4cf4-bdbe-2821b5ebfbb4",
   "metadata": {},
   "outputs": [],
   "source": [
    "input_data_path = Path('00_input_data')\n",
    "heavy_fractions_path = Path('02_heavy_fractions')\n",
    "results_path = Path('03_flux_analysis_results')"
   ]
  },
  {
   "cell_type": "code",
   "execution_count": 4,
   "id": "f4e28dd5-76b8-4852-ae9c-2e49552242ee",
   "metadata": {},
   "outputs": [],
   "source": [
    "# make matplotlib use TrueType fonts for PDF export\n",
    "matplotlib.rcParams['pdf.fonttype'] = 42"
   ]
  },
  {
   "cell_type": "code",
   "execution_count": 42,
   "id": "d78df181-3b81-419f-b2d2-6a5b651e9cc3",
   "metadata": {},
   "outputs": [],
   "source": [
    "np.set_printoptions(precision=3, suppress=True)"
   ]
  },
  {
   "cell_type": "markdown",
   "id": "1daee94a-7021-4071-918d-f41598283197",
   "metadata": {},
   "source": [
    "## Define model"
   ]
  },
  {
   "cell_type": "markdown",
   "id": "63df7f43-6b50-456c-97e8-2f0e80d88677",
   "metadata": {},
   "source": [
    "### Stoichiometry"
   ]
  },
  {
   "cell_type": "code",
   "execution_count": 5,
   "id": "eebbb54f-9068-42c1-9bf7-d9424194035e",
   "metadata": {},
   "outputs": [],
   "source": [
    "stoichiometry = defaultdict(int, {\n",
    "    ('MET_IN', 'met'): 1,\n",
    "    ('PROT_SYNTH', 'met'): -1, ('PROT_SYNTH', 'metp'): 1, \n",
    "    ('AHCY', 'sah'): -1, ('AHCY', 'hcys'): 1, \n",
    "    ('METS', 'hcys'): -1, ('METS', 'met'): 1, \n",
    "    ('MAT', 'met'): -1, ('MAT', 'sam'): 1, \n",
    "    ('SAM_METH', 'sam'): -1, ('SAM_METH', 'sah'): 1, \n",
    "    ('CYSTS', 'hcys'): -1, ('CYSTS', 'cyst'): 1,\n",
    "    ('CYSTL', 'cyst'): -1, ('CYSTL', 'akb'): 1,\n",
    "    ('HCYS_OUT', 'hcys'): -1,\n",
    "    ('PROT_OUT', 'metp'): -1,\n",
    "    ('AKB_OUT', 'akb'): -1,\n",
    "})\n",
    "\n",
    "reversible_reactions = [\n",
    "    'MET_IN',\n",
    "    'PROT_SYNTH',\n",
    "    'AHCY',\n",
    "    'CYSTL',\n",
    "]\n",
    "\n",
    "free_reactions = ['CYSTS', 'METS', 'PROT_OUT', 'SAM_METH']\n",
    "\n",
    "flux_model = FluxModel(stoichiometry, reversible_reactions, free_reactions)"
   ]
  },
  {
   "cell_type": "code",
   "execution_count": 6,
   "id": "49801b5b-40e6-4410-9e61-6ef338566860",
   "metadata": {},
   "outputs": [
    {
     "data": {
      "text/html": [
       "<div>\n",
       "<style scoped>\n",
       "    .dataframe tbody tr th:only-of-type {\n",
       "        vertical-align: middle;\n",
       "    }\n",
       "\n",
       "    .dataframe tbody tr th {\n",
       "        vertical-align: top;\n",
       "    }\n",
       "\n",
       "    .dataframe thead th {\n",
       "        text-align: right;\n",
       "    }\n",
       "</style>\n",
       "<table border=\"1\" class=\"dataframe\">\n",
       "  <thead>\n",
       "    <tr style=\"text-align: right;\">\n",
       "      <th></th>\n",
       "      <th>AHCY</th>\n",
       "      <th>AKB_OUT</th>\n",
       "      <th>CYSTL</th>\n",
       "      <th>CYSTS</th>\n",
       "      <th>HCYS_OUT</th>\n",
       "      <th>MAT</th>\n",
       "      <th>METS</th>\n",
       "      <th>MET_IN</th>\n",
       "      <th>PROT_OUT</th>\n",
       "      <th>PROT_SYNTH</th>\n",
       "      <th>SAM_METH</th>\n",
       "    </tr>\n",
       "  </thead>\n",
       "  <tbody>\n",
       "    <tr>\n",
       "      <th>akb</th>\n",
       "      <td>0</td>\n",
       "      <td>-1</td>\n",
       "      <td>1</td>\n",
       "      <td>0</td>\n",
       "      <td>0</td>\n",
       "      <td>0</td>\n",
       "      <td>0</td>\n",
       "      <td>0</td>\n",
       "      <td>0</td>\n",
       "      <td>0</td>\n",
       "      <td>0</td>\n",
       "    </tr>\n",
       "    <tr>\n",
       "      <th>cyst</th>\n",
       "      <td>0</td>\n",
       "      <td>0</td>\n",
       "      <td>-1</td>\n",
       "      <td>1</td>\n",
       "      <td>0</td>\n",
       "      <td>0</td>\n",
       "      <td>0</td>\n",
       "      <td>0</td>\n",
       "      <td>0</td>\n",
       "      <td>0</td>\n",
       "      <td>0</td>\n",
       "    </tr>\n",
       "    <tr>\n",
       "      <th>hcys</th>\n",
       "      <td>1</td>\n",
       "      <td>0</td>\n",
       "      <td>0</td>\n",
       "      <td>-1</td>\n",
       "      <td>-1</td>\n",
       "      <td>0</td>\n",
       "      <td>-1</td>\n",
       "      <td>0</td>\n",
       "      <td>0</td>\n",
       "      <td>0</td>\n",
       "      <td>0</td>\n",
       "    </tr>\n",
       "    <tr>\n",
       "      <th>met</th>\n",
       "      <td>0</td>\n",
       "      <td>0</td>\n",
       "      <td>0</td>\n",
       "      <td>0</td>\n",
       "      <td>0</td>\n",
       "      <td>-1</td>\n",
       "      <td>1</td>\n",
       "      <td>1</td>\n",
       "      <td>0</td>\n",
       "      <td>-1</td>\n",
       "      <td>0</td>\n",
       "    </tr>\n",
       "    <tr>\n",
       "      <th>metp</th>\n",
       "      <td>0</td>\n",
       "      <td>0</td>\n",
       "      <td>0</td>\n",
       "      <td>0</td>\n",
       "      <td>0</td>\n",
       "      <td>0</td>\n",
       "      <td>0</td>\n",
       "      <td>0</td>\n",
       "      <td>-1</td>\n",
       "      <td>1</td>\n",
       "      <td>0</td>\n",
       "    </tr>\n",
       "    <tr>\n",
       "      <th>sah</th>\n",
       "      <td>-1</td>\n",
       "      <td>0</td>\n",
       "      <td>0</td>\n",
       "      <td>0</td>\n",
       "      <td>0</td>\n",
       "      <td>0</td>\n",
       "      <td>0</td>\n",
       "      <td>0</td>\n",
       "      <td>0</td>\n",
       "      <td>0</td>\n",
       "      <td>1</td>\n",
       "    </tr>\n",
       "    <tr>\n",
       "      <th>sam</th>\n",
       "      <td>0</td>\n",
       "      <td>0</td>\n",
       "      <td>0</td>\n",
       "      <td>0</td>\n",
       "      <td>0</td>\n",
       "      <td>1</td>\n",
       "      <td>0</td>\n",
       "      <td>0</td>\n",
       "      <td>0</td>\n",
       "      <td>0</td>\n",
       "      <td>-1</td>\n",
       "    </tr>\n",
       "  </tbody>\n",
       "</table>\n",
       "</div>"
      ],
      "text/plain": [
       "      AHCY  AKB_OUT  CYSTL  CYSTS  HCYS_OUT  MAT  METS  MET_IN  PROT_OUT  \\\n",
       "akb      0       -1      1      0         0    0     0       0         0   \n",
       "cyst     0        0     -1      1         0    0     0       0         0   \n",
       "hcys     1        0      0     -1        -1    0    -1       0         0   \n",
       "met      0        0      0      0         0   -1     1       1         0   \n",
       "metp     0        0      0      0         0    0     0       0        -1   \n",
       "sah     -1        0      0      0         0    0     0       0         0   \n",
       "sam      0        0      0      0         0    1     0       0         0   \n",
       "\n",
       "      PROT_SYNTH  SAM_METH  \n",
       "akb            0         0  \n",
       "cyst           0         0  \n",
       "hcys           0         0  \n",
       "met           -1         0  \n",
       "metp           1         0  \n",
       "sah            0         1  \n",
       "sam            0        -1  "
      ]
     },
     "execution_count": 6,
     "metadata": {},
     "output_type": "execute_result"
    }
   ],
   "source": [
    "flux_model.get_stoichiometry_df()"
   ]
  },
  {
   "cell_type": "markdown",
   "id": "dfcb8a27-532f-42e4-a748-20cc30ec12e0",
   "metadata": {
    "tags": []
   },
   "source": [
    "## U-13C-methionine tracing"
   ]
  },
  {
   "cell_type": "markdown",
   "id": "53b8d0ce-6e6b-4df4-8026-ef1dbdf44881",
   "metadata": {},
   "source": [
    "### Pool sizes"
   ]
  },
  {
   "cell_type": "markdown",
   "id": "15628198-30cd-4722-a6ff-62e41b387dca",
   "metadata": {},
   "source": [
    "Estimated intracellular concentrations in uM\n",
    "\n",
    "NOTE: we might leave out akb here"
   ]
  },
  {
   "cell_type": "code",
   "execution_count": 7,
   "id": "d4487113-99b9-4729-996a-3a7157afbb6a",
   "metadata": {},
   "outputs": [
    {
     "data": {
      "text/html": [
       "<div>\n",
       "<style scoped>\n",
       "    .dataframe tbody tr th:only-of-type {\n",
       "        vertical-align: middle;\n",
       "    }\n",
       "\n",
       "    .dataframe tbody tr th {\n",
       "        vertical-align: top;\n",
       "    }\n",
       "\n",
       "    .dataframe thead th {\n",
       "        text-align: right;\n",
       "    }\n",
       "</style>\n",
       "<table border=\"1\" class=\"dataframe\">\n",
       "  <thead>\n",
       "    <tr style=\"text-align: right;\">\n",
       "      <th></th>\n",
       "      <th></th>\n",
       "      <th>mean</th>\n",
       "      <th>std_dev</th>\n",
       "    </tr>\n",
       "    <tr>\n",
       "      <th>cell_type</th>\n",
       "      <th>metabolite</th>\n",
       "      <th></th>\n",
       "      <th></th>\n",
       "    </tr>\n",
       "  </thead>\n",
       "  <tbody>\n",
       "    <tr>\n",
       "      <th rowspan=\"7\" valign=\"top\">BJ-TERT</th>\n",
       "      <th>hcys</th>\n",
       "      <td>10.0</td>\n",
       "      <td>10.00</td>\n",
       "    </tr>\n",
       "    <tr>\n",
       "      <th>met</th>\n",
       "      <td>739.0</td>\n",
       "      <td>6.74</td>\n",
       "    </tr>\n",
       "    <tr>\n",
       "      <th>sam</th>\n",
       "      <td>72.3</td>\n",
       "      <td>6.79</td>\n",
       "    </tr>\n",
       "    <tr>\n",
       "      <th>sah</th>\n",
       "      <td>2.5</td>\n",
       "      <td>0.07</td>\n",
       "    </tr>\n",
       "    <tr>\n",
       "      <th>cyst</th>\n",
       "      <td>16.3</td>\n",
       "      <td>0.90</td>\n",
       "    </tr>\n",
       "    <tr>\n",
       "      <th>metp</th>\n",
       "      <td>23500.0</td>\n",
       "      <td>2350.00</td>\n",
       "    </tr>\n",
       "    <tr>\n",
       "      <th>akb</th>\n",
       "      <td>1000.0</td>\n",
       "      <td>1000.00</td>\n",
       "    </tr>\n",
       "    <tr>\n",
       "      <th rowspan=\"7\" valign=\"top\">BJ-RAS</th>\n",
       "      <th>hcys</th>\n",
       "      <td>10.0</td>\n",
       "      <td>10.00</td>\n",
       "    </tr>\n",
       "    <tr>\n",
       "      <th>met</th>\n",
       "      <td>573.8</td>\n",
       "      <td>59.92</td>\n",
       "    </tr>\n",
       "    <tr>\n",
       "      <th>sam</th>\n",
       "      <td>148.9</td>\n",
       "      <td>20.57</td>\n",
       "    </tr>\n",
       "    <tr>\n",
       "      <th>sah</th>\n",
       "      <td>2.3</td>\n",
       "      <td>0.06</td>\n",
       "    </tr>\n",
       "    <tr>\n",
       "      <th>cyst</th>\n",
       "      <td>16.3</td>\n",
       "      <td>0.90</td>\n",
       "    </tr>\n",
       "    <tr>\n",
       "      <th>metp</th>\n",
       "      <td>23500.0</td>\n",
       "      <td>2350.00</td>\n",
       "    </tr>\n",
       "    <tr>\n",
       "      <th>akb</th>\n",
       "      <td>1000.0</td>\n",
       "      <td>1000.00</td>\n",
       "    </tr>\n",
       "  </tbody>\n",
       "</table>\n",
       "</div>"
      ],
      "text/plain": [
       "                         mean  std_dev\n",
       "cell_type metabolite                  \n",
       "BJ-TERT   hcys           10.0    10.00\n",
       "          met           739.0     6.74\n",
       "          sam            72.3     6.79\n",
       "          sah             2.5     0.07\n",
       "          cyst           16.3     0.90\n",
       "          metp        23500.0  2350.00\n",
       "          akb          1000.0  1000.00\n",
       "BJ-RAS    hcys           10.0    10.00\n",
       "          met           573.8    59.92\n",
       "          sam           148.9    20.57\n",
       "          sah             2.3     0.06\n",
       "          cyst           16.3     0.90\n",
       "          metp        23500.0  2350.00\n",
       "          akb          1000.0  1000.00"
      ]
     },
     "execution_count": 7,
     "metadata": {},
     "output_type": "execute_result"
    }
   ],
   "source": [
    "pool_size_data = pd.read_csv(input_data_path / 'U13C-met_concentrations.csv', sep=';', index_col=[0, 1])\n",
    "pool_size_data"
   ]
  },
  {
   "cell_type": "markdown",
   "id": "ce99c430-0a21-4dae-8c34-56caf770e91f",
   "metadata": {},
   "source": [
    "### Measured fluxes"
   ]
  },
  {
   "cell_type": "markdown",
   "id": "dd66af8a-915c-4949-9158-c0f1ee484e6b",
   "metadata": {},
   "source": [
    "Measured fluxes (pmol / h * uL cells = uM / h)."
   ]
  },
  {
   "cell_type": "code",
   "execution_count": 8,
   "id": "9a0daa06-1c41-4487-83e0-dc7a8ddf8870",
   "metadata": {},
   "outputs": [
    {
     "data": {
      "text/html": [
       "<div>\n",
       "<style scoped>\n",
       "    .dataframe tbody tr th:only-of-type {\n",
       "        vertical-align: middle;\n",
       "    }\n",
       "\n",
       "    .dataframe tbody tr th {\n",
       "        vertical-align: top;\n",
       "    }\n",
       "\n",
       "    .dataframe thead th {\n",
       "        text-align: right;\n",
       "    }\n",
       "</style>\n",
       "<table border=\"1\" class=\"dataframe\">\n",
       "  <thead>\n",
       "    <tr style=\"text-align: right;\">\n",
       "      <th></th>\n",
       "      <th></th>\n",
       "      <th>mean</th>\n",
       "      <th>std_dev</th>\n",
       "    </tr>\n",
       "    <tr>\n",
       "      <th>cell_type</th>\n",
       "      <th>flux</th>\n",
       "      <th></th>\n",
       "      <th></th>\n",
       "    </tr>\n",
       "  </thead>\n",
       "  <tbody>\n",
       "    <tr>\n",
       "      <th rowspan=\"2\" valign=\"top\">BJ-TERT</th>\n",
       "      <th>PROT_OUT</th>\n",
       "      <td>416</td>\n",
       "      <td>83.0</td>\n",
       "    </tr>\n",
       "    <tr>\n",
       "      <th>HCYS_OUT</th>\n",
       "      <td>64</td>\n",
       "      <td>6.4</td>\n",
       "    </tr>\n",
       "    <tr>\n",
       "      <th rowspan=\"2\" valign=\"top\">BJ-RAS</th>\n",
       "      <th>PROT_OUT</th>\n",
       "      <td>520</td>\n",
       "      <td>104.0</td>\n",
       "    </tr>\n",
       "    <tr>\n",
       "      <th>HCYS_OUT</th>\n",
       "      <td>53</td>\n",
       "      <td>5.3</td>\n",
       "    </tr>\n",
       "  </tbody>\n",
       "</table>\n",
       "</div>"
      ],
      "text/plain": [
       "                    mean  std_dev\n",
       "cell_type flux                   \n",
       "BJ-TERT   PROT_OUT   416     83.0\n",
       "          HCYS_OUT    64      6.4\n",
       "BJ-RAS    PROT_OUT   520    104.0\n",
       "          HCYS_OUT    53      5.3"
      ]
     },
     "execution_count": 8,
     "metadata": {},
     "output_type": "execute_result"
    }
   ],
   "source": [
    "measured_fluxes = pd.read_csv(input_data_path / 'U13C-met_measured_fluxes.csv', sep=';', index_col=[0, 1])\n",
    "measured_fluxes"
   ]
  },
  {
   "cell_type": "markdown",
   "id": "d1a913de-392a-4a56-832f-b5e67cfb31bb",
   "metadata": {},
   "source": [
    "### Heavy fractions"
   ]
  },
  {
   "cell_type": "code",
   "execution_count": 9,
   "id": "e6aa42af-eae4-438b-a53f-f8a3a5ef41d1",
   "metadata": {},
   "outputs": [
    {
     "data": {
      "text/html": [
       "<div>\n",
       "<style scoped>\n",
       "    .dataframe tbody tr th:only-of-type {\n",
       "        vertical-align: middle;\n",
       "    }\n",
       "\n",
       "    .dataframe tbody tr th {\n",
       "        vertical-align: top;\n",
       "    }\n",
       "\n",
       "    .dataframe thead th {\n",
       "        text-align: right;\n",
       "    }\n",
       "</style>\n",
       "<table border=\"1\" class=\"dataframe\">\n",
       "  <thead>\n",
       "    <tr style=\"text-align: right;\">\n",
       "      <th></th>\n",
       "      <th></th>\n",
       "      <th></th>\n",
       "      <th>cyst</th>\n",
       "      <th>met</th>\n",
       "      <th>sam</th>\n",
       "    </tr>\n",
       "    <tr>\n",
       "      <th>cell_type</th>\n",
       "      <th>time_hours</th>\n",
       "      <th>replicate_nr</th>\n",
       "      <th></th>\n",
       "      <th></th>\n",
       "      <th></th>\n",
       "    </tr>\n",
       "  </thead>\n",
       "  <tbody>\n",
       "    <tr>\n",
       "      <th rowspan=\"5\" valign=\"top\">BJ-RAS</th>\n",
       "      <th rowspan=\"2\" valign=\"top\">0.083333</th>\n",
       "      <th>1</th>\n",
       "      <td>-4.730827e-07</td>\n",
       "      <td>0.947336</td>\n",
       "      <td>0.128583</td>\n",
       "    </tr>\n",
       "    <tr>\n",
       "      <th>2</th>\n",
       "      <td>-4.730827e-07</td>\n",
       "      <td>0.958151</td>\n",
       "      <td>0.154254</td>\n",
       "    </tr>\n",
       "    <tr>\n",
       "      <th rowspan=\"2\" valign=\"top\">0.250000</th>\n",
       "      <th>1</th>\n",
       "      <td>-4.730827e-07</td>\n",
       "      <td>0.972891</td>\n",
       "      <td>0.475179</td>\n",
       "    </tr>\n",
       "    <tr>\n",
       "      <th>2</th>\n",
       "      <td>-4.730827e-07</td>\n",
       "      <td>0.970010</td>\n",
       "      <td>0.479771</td>\n",
       "    </tr>\n",
       "    <tr>\n",
       "      <th>0.500000</th>\n",
       "      <th>1</th>\n",
       "      <td>-4.730827e-07</td>\n",
       "      <td>0.970564</td>\n",
       "      <td>0.735455</td>\n",
       "    </tr>\n",
       "  </tbody>\n",
       "</table>\n",
       "</div>"
      ],
      "text/plain": [
       "                                           cyst       met       sam\n",
       "cell_type time_hours replicate_nr                                  \n",
       "BJ-RAS    0.083333   1            -4.730827e-07  0.947336  0.128583\n",
       "                     2            -4.730827e-07  0.958151  0.154254\n",
       "          0.250000   1            -4.730827e-07  0.972891  0.475179\n",
       "                     2            -4.730827e-07  0.970010  0.479771\n",
       "          0.500000   1            -4.730827e-07  0.970564  0.735455"
      ]
     },
     "execution_count": 9,
     "metadata": {},
     "output_type": "execute_result"
    }
   ],
   "source": [
    "heavy_fractions = pd.read_csv(heavy_fractions_path / '13C-met_heavy_fractions.csv', index_col=[0, 1, 2])\n",
    "# use time in hours\n",
    "heavy_fractions.index = heavy_fractions.index\\\n",
    "    .set_levels(heavy_fractions.index.levels[1].astype('float64') / 60, level=1)\\\n",
    "    .rename(['cell_type', 'time_hours', 'replicate_nr'])\n",
    "heavy_fractions.head(5)"
   ]
  },
  {
   "cell_type": "code",
   "execution_count": 10,
   "id": "bac3ff10-73f0-4b27-9ffd-ca709e7fd3f9",
   "metadata": {},
   "outputs": [
    {
     "data": {
      "text/html": [
       "<div>\n",
       "<style scoped>\n",
       "    .dataframe tbody tr th:only-of-type {\n",
       "        vertical-align: middle;\n",
       "    }\n",
       "\n",
       "    .dataframe tbody tr th {\n",
       "        vertical-align: top;\n",
       "    }\n",
       "\n",
       "    .dataframe thead th {\n",
       "        text-align: right;\n",
       "    }\n",
       "</style>\n",
       "<table border=\"1\" class=\"dataframe\">\n",
       "  <thead>\n",
       "    <tr style=\"text-align: right;\">\n",
       "      <th></th>\n",
       "      <th></th>\n",
       "      <th>cyst</th>\n",
       "      <th>met</th>\n",
       "      <th>sam</th>\n",
       "    </tr>\n",
       "    <tr>\n",
       "      <th>cell_type</th>\n",
       "      <th>time_hours</th>\n",
       "      <th></th>\n",
       "      <th></th>\n",
       "      <th></th>\n",
       "    </tr>\n",
       "  </thead>\n",
       "  <tbody>\n",
       "    <tr>\n",
       "      <th rowspan=\"6\" valign=\"top\">BJ-RAS</th>\n",
       "      <th>0.083333</th>\n",
       "      <td>-4.730827e-07</td>\n",
       "      <td>0.952744</td>\n",
       "      <td>0.141419</td>\n",
       "    </tr>\n",
       "    <tr>\n",
       "      <th>0.250000</th>\n",
       "      <td>-4.730827e-07</td>\n",
       "      <td>0.971451</td>\n",
       "      <td>0.477475</td>\n",
       "    </tr>\n",
       "    <tr>\n",
       "      <th>0.500000</th>\n",
       "      <td>-4.730827e-07</td>\n",
       "      <td>0.972464</td>\n",
       "      <td>0.743137</td>\n",
       "    </tr>\n",
       "    <tr>\n",
       "      <th>1.000000</th>\n",
       "      <td>-4.730827e-07</td>\n",
       "      <td>0.972576</td>\n",
       "      <td>0.878904</td>\n",
       "    </tr>\n",
       "    <tr>\n",
       "      <th>5.000000</th>\n",
       "      <td>3.797082e-01</td>\n",
       "      <td>0.984947</td>\n",
       "      <td>0.958616</td>\n",
       "    </tr>\n",
       "    <tr>\n",
       "      <th>24.000000</th>\n",
       "      <td>7.779678e-01</td>\n",
       "      <td>0.976280</td>\n",
       "      <td>0.973534</td>\n",
       "    </tr>\n",
       "    <tr>\n",
       "      <th rowspan=\"6\" valign=\"top\">BJ-TERT</th>\n",
       "      <th>0.083333</th>\n",
       "      <td>-4.730827e-07</td>\n",
       "      <td>0.965920</td>\n",
       "      <td>0.146616</td>\n",
       "    </tr>\n",
       "    <tr>\n",
       "      <th>0.250000</th>\n",
       "      <td>-4.730827e-07</td>\n",
       "      <td>0.971597</td>\n",
       "      <td>0.468725</td>\n",
       "    </tr>\n",
       "    <tr>\n",
       "      <th>0.500000</th>\n",
       "      <td>-4.730827e-07</td>\n",
       "      <td>0.977344</td>\n",
       "      <td>0.780345</td>\n",
       "    </tr>\n",
       "    <tr>\n",
       "      <th>1.000000</th>\n",
       "      <td>1.283193e-01</td>\n",
       "      <td>0.976847</td>\n",
       "      <td>0.938402</td>\n",
       "    </tr>\n",
       "    <tr>\n",
       "      <th>5.000000</th>\n",
       "      <td>6.647575e-01</td>\n",
       "      <td>0.982441</td>\n",
       "      <td>0.978226</td>\n",
       "    </tr>\n",
       "    <tr>\n",
       "      <th>24.000000</th>\n",
       "      <td>7.412110e-01</td>\n",
       "      <td>0.973523</td>\n",
       "      <td>0.974370</td>\n",
       "    </tr>\n",
       "  </tbody>\n",
       "</table>\n",
       "</div>"
      ],
      "text/plain": [
       "                              cyst       met       sam\n",
       "cell_type time_hours                                  \n",
       "BJ-RAS    0.083333   -4.730827e-07  0.952744  0.141419\n",
       "          0.250000   -4.730827e-07  0.971451  0.477475\n",
       "          0.500000   -4.730827e-07  0.972464  0.743137\n",
       "          1.000000   -4.730827e-07  0.972576  0.878904\n",
       "          5.000000    3.797082e-01  0.984947  0.958616\n",
       "          24.000000   7.779678e-01  0.976280  0.973534\n",
       "BJ-TERT   0.083333   -4.730827e-07  0.965920  0.146616\n",
       "          0.250000   -4.730827e-07  0.971597  0.468725\n",
       "          0.500000   -4.730827e-07  0.977344  0.780345\n",
       "          1.000000    1.283193e-01  0.976847  0.938402\n",
       "          5.000000    6.647575e-01  0.982441  0.978226\n",
       "          24.000000   7.412110e-01  0.973523  0.974370"
      ]
     },
     "execution_count": 10,
     "metadata": {},
     "output_type": "execute_result"
    }
   ],
   "source": [
    "heavy_fraction_mean = heavy_fractions.groupby(level=[0, 1]).mean()\n",
    "heavy_fraction_mean"
   ]
  },
  {
   "cell_type": "code",
   "execution_count": 11,
   "id": "823ec6e1-ebad-46ff-8f57-34fb4e196e1d",
   "metadata": {},
   "outputs": [],
   "source": [
    "min_std_dev = 0.02\n",
    "heavy_fraction_sd = np.maximum(heavy_fractions.groupby(level=[0, 1]).std(), min_std_dev)"
   ]
  },
  {
   "cell_type": "markdown",
   "id": "55abdce8-4605-4b0a-a485-c7ef9349beb7",
   "metadata": {},
   "source": [
    "### Initial flux state"
   ]
  },
  {
   "cell_type": "code",
   "execution_count": 12,
   "id": "f46d5704-2969-4db8-b8d0-8a8fd0f6c62b",
   "metadata": {},
   "outputs": [],
   "source": [
    "init_flux_state = FluxState.from_dict(\n",
    "    flux_model,\n",
    "    free_fluxes={\n",
    "        'CYSTS' : 7,\n",
    "        'METS': 85,\n",
    "        'SAM_METH': 110,\n",
    "        'PROT_OUT': 34,\n",
    "    },\n",
    "    exchanges={\n",
    "        'MET_IN' : 0.4,\n",
    "        'PROT_SYNTH': 0.4,\n",
    "        'AHCY': 0.4,\n",
    "        'CYSTL': 0.4,\n",
    "    }\n",
    ")"
   ]
  },
  {
   "cell_type": "code",
   "execution_count": 13,
   "id": "edbaf396-5957-4111-990c-2bb8f97fc6d9",
   "metadata": {},
   "outputs": [],
   "source": [
    "initial_state = ModelState(\n",
    "    model=flux_model,\n",
    "    flux_state=init_flux_state,\n",
    "    concentrations=pool_size_data.loc['BJ-TERT'].loc[flux_model.metabolites, 'mean'].to_numpy(),\n",
    "    medium_mi={'MET_IN': 1.0}\n",
    ")"
   ]
  },
  {
   "cell_type": "markdown",
   "id": "4ff4003b-f1e9-45fe-a8fe-93ee1b81838b",
   "metadata": {},
   "source": [
    "### Fit model"
   ]
  },
  {
   "cell_type": "code",
   "execution_count": 14,
   "id": "fe7a5ab4-ef42-41d1-8c92-c39e73933a24",
   "metadata": {},
   "outputs": [],
   "source": [
    "cell_types = ['BJ-TERT', 'BJ-RAS']"
   ]
  },
  {
   "cell_type": "code",
   "execution_count": 15,
   "id": "b6bc6be7-37f4-4083-a49e-97c580cab2d9",
   "metadata": {},
   "outputs": [],
   "source": [
    "model_fits = {\n",
    "    cell_type: ModelFit(\n",
    "        initial_state,\n",
    "        measured_mi = heavy_fraction_mean.loc[cell_type],\n",
    "        measured_mi_std_dev = heavy_fraction_sd.loc[cell_type],\n",
    "        measured_fluxes=measured_fluxes.loc[cell_type],\n",
    "        measured_conc=pool_size_data.loc[cell_type]\n",
    "    )\n",
    "    for cell_type in cell_types\n",
    "}"
   ]
  },
  {
   "cell_type": "markdown",
   "id": "3fcc6f9d-8c3f-4562-b6ca-7e1cdf616d24",
   "metadata": {},
   "source": [
    "Initial residuals"
   ]
  },
  {
   "cell_type": "code",
   "execution_count": 16,
   "id": "76eb7392-a663-4aa8-9afb-816d384eff15",
   "metadata": {},
   "outputs": [
    {
     "data": {
      "text/plain": [
       "[array([-6.72386916e-05,  4.77479540e+01,  7.29734340e+00, -3.41873220e-03,\n",
       "         4.69722922e+01,  2.31629866e+01, -3.76678356e-02,  4.57514683e+01,\n",
       "         3.80658240e+01,  5.22329975e+00,  4.29459933e+01,  4.39698885e+01,\n",
       "         1.06791884e+01,  2.75777280e+01,  2.94415487e+01,  1.20231070e+01,\n",
       "         8.95560542e+00,  9.13026997e+00,  4.60240964e+00,  7.18750000e+00,\n",
       "         0.00000000e+00,  0.00000000e+00,  0.00000000e+00,  0.00000000e+00,\n",
       "         0.00000000e+00,  0.00000000e+00,  0.00000000e+00]),\n",
       " array([-6.72386916e-05,  4.70891321e+01,  7.03748826e+00, -3.41873220e-03,\n",
       "         4.69649562e+01,  2.36005194e+01, -3.76678356e-02,  4.55074582e+01,\n",
       "         3.62054232e+01, -3.03980469e-01,  4.27324367e+01,  4.09950007e+01,\n",
       "         6.20095027e+00,  2.77030214e+01,  2.84610518e+01,  7.78161304e+00,\n",
       "         9.09348057e+00,  9.08845539e+00,  4.67307692e+00,  6.60377358e+00,\n",
       "         0.00000000e+00, -2.75700935e+00,  3.72386971e+00, -3.33333333e+00,\n",
       "         0.00000000e+00,  0.00000000e+00,  0.00000000e+00])]"
      ]
     },
     "execution_count": 16,
     "metadata": {},
     "output_type": "execute_result"
    }
   ],
   "source": [
    "[model_fits[cell_type].model_residual() for cell_type in cell_types]"
   ]
  },
  {
   "cell_type": "markdown",
   "id": "80efbea8-fe98-4d89-a4ba-e383f368cb89",
   "metadata": {},
   "source": [
    "Fit models"
   ]
  },
  {
   "cell_type": "code",
   "execution_count": 17,
   "id": "c23ecaa7-fda3-419a-838e-5e6bf13bdbbe",
   "metadata": {},
   "outputs": [],
   "source": [
    "for cell_type in cell_types:\n",
    "    model_fits[cell_type].fit()"
   ]
  },
  {
   "cell_type": "code",
   "execution_count": 43,
   "id": "2d714ff4-c3bc-47e1-b506-bc550f2835e1",
   "metadata": {},
   "outputs": [
    {
     "data": {
      "text/html": [
       "<div>\n",
       "<style scoped>\n",
       "    .dataframe tbody tr th:only-of-type {\n",
       "        vertical-align: middle;\n",
       "    }\n",
       "\n",
       "    .dataframe tbody tr th {\n",
       "        vertical-align: top;\n",
       "    }\n",
       "\n",
       "    .dataframe thead th {\n",
       "        text-align: right;\n",
       "    }\n",
       "</style>\n",
       "<table border=\"1\" class=\"dataframe\">\n",
       "  <thead>\n",
       "    <tr style=\"text-align: right;\">\n",
       "      <th></th>\n",
       "      <th>net_flux</th>\n",
       "      <th>fwd_flux</th>\n",
       "      <th>rev_flux</th>\n",
       "    </tr>\n",
       "  </thead>\n",
       "  <tbody>\n",
       "    <tr>\n",
       "      <th>AHCY</th>\n",
       "      <td>218.014496</td>\n",
       "      <td>218.035837</td>\n",
       "      <td>0.021342</td>\n",
       "    </tr>\n",
       "    <tr>\n",
       "      <th>AKB_OUT</th>\n",
       "      <td>4.574320</td>\n",
       "      <td>4.574320</td>\n",
       "      <td>0.000000</td>\n",
       "    </tr>\n",
       "    <tr>\n",
       "      <th>CYSTL</th>\n",
       "      <td>4.574320</td>\n",
       "      <td>6.214623</td>\n",
       "      <td>1.640303</td>\n",
       "    </tr>\n",
       "    <tr>\n",
       "      <th>CYSTS</th>\n",
       "      <td>4.574320</td>\n",
       "      <td>4.574320</td>\n",
       "      <td>0.000000</td>\n",
       "    </tr>\n",
       "    <tr>\n",
       "      <th>HCYS_OUT</th>\n",
       "      <td>63.965749</td>\n",
       "      <td>63.965749</td>\n",
       "      <td>0.000000</td>\n",
       "    </tr>\n",
       "    <tr>\n",
       "      <th>MAT</th>\n",
       "      <td>218.014496</td>\n",
       "      <td>218.014496</td>\n",
       "      <td>0.000000</td>\n",
       "    </tr>\n",
       "    <tr>\n",
       "      <th>METS</th>\n",
       "      <td>149.474427</td>\n",
       "      <td>149.474427</td>\n",
       "      <td>0.000000</td>\n",
       "    </tr>\n",
       "    <tr>\n",
       "      <th>MET_IN</th>\n",
       "      <td>471.531074</td>\n",
       "      <td>31316.868631</td>\n",
       "      <td>30845.337557</td>\n",
       "    </tr>\n",
       "    <tr>\n",
       "      <th>PROT_OUT</th>\n",
       "      <td>402.991006</td>\n",
       "      <td>402.991006</td>\n",
       "      <td>0.000000</td>\n",
       "    </tr>\n",
       "    <tr>\n",
       "      <th>PROT_SYNTH</th>\n",
       "      <td>402.991006</td>\n",
       "      <td>963.912522</td>\n",
       "      <td>560.921516</td>\n",
       "    </tr>\n",
       "    <tr>\n",
       "      <th>SAM_METH</th>\n",
       "      <td>218.014496</td>\n",
       "      <td>218.014496</td>\n",
       "      <td>0.000000</td>\n",
       "    </tr>\n",
       "  </tbody>\n",
       "</table>\n",
       "</div>"
      ],
      "text/plain": [
       "              net_flux      fwd_flux      rev_flux\n",
       "AHCY        218.014496    218.035837      0.021342\n",
       "AKB_OUT       4.574320      4.574320      0.000000\n",
       "CYSTL         4.574320      6.214623      1.640303\n",
       "CYSTS         4.574320      4.574320      0.000000\n",
       "HCYS_OUT     63.965749     63.965749      0.000000\n",
       "MAT         218.014496    218.014496      0.000000\n",
       "METS        149.474427    149.474427      0.000000\n",
       "MET_IN      471.531074  31316.868631  30845.337557\n",
       "PROT_OUT    402.991006    402.991006      0.000000\n",
       "PROT_SYNTH  402.991006    963.912522    560.921516\n",
       "SAM_METH    218.014496    218.014496      0.000000"
      ]
     },
     "execution_count": 43,
     "metadata": {},
     "output_type": "execute_result"
    }
   ],
   "source": [
    "flux_model.get_flux_table(model_fits['BJ-TERT'].model_state.flux_state)"
   ]
  },
  {
   "cell_type": "markdown",
   "id": "e09ebed3-b4e3-4377-ae3e-f3a6074e2704",
   "metadata": {},
   "source": [
    "### Residuals"
   ]
  },
  {
   "cell_type": "code",
   "execution_count": 72,
   "id": "c0a2f7d8-9016-4cfa-b585-294ff00ffe98",
   "metadata": {},
   "outputs": [
    {
     "data": {
      "text/plain": [
       "[                cyst       met       sam\n",
       " time_hours                              \n",
       " 0.083333   -0.012300  0.719187 -0.874837\n",
       " 0.250000   -0.406304 -0.382353 -0.942787\n",
       " 0.500000   -2.078377 -0.188040  1.489579\n",
       " 1.000000   -0.465134 -0.292829  0.327609\n",
       " 5.000000    1.464982 -0.156169 -0.357351\n",
       " 24.000000  -0.328938 -0.986345 -0.939479,\n",
       "                 cyst       met       sam\n",
       " time_hours                              \n",
       " 0.083333   -0.014884  0.439863 -0.965278\n",
       " 0.250000   -0.203026  0.418881  0.461714\n",
       " 0.500000   -0.774078  0.292093  0.885657\n",
       " 1.000000   -2.350207  0.143233 -1.660513\n",
       " 5.000000    2.470675  0.433849 -0.859815\n",
       " 24.000000  -1.508020 -0.769884 -0.899168]"
      ]
     },
     "execution_count": 72,
     "metadata": {},
     "output_type": "execute_result"
    }
   ],
   "source": [
    "[\n",
    "    pd.DataFrame(\n",
    "        model_fits[cell_type].isotope_residual(),\n",
    "        columns=heavy_fraction_mean.loc[cell_type].columns,\n",
    "        index=heavy_fraction_mean.loc[cell_type].index\n",
    "    )\n",
    "    for cell_type in cell_types\n",
    "]"
   ]
  },
  {
   "cell_type": "markdown",
   "id": "040a143d-a311-4218-b0a5-0b8830d0e297",
   "metadata": {},
   "source": [
    "### Model fit statistics"
   ]
  },
  {
   "cell_type": "code",
   "execution_count": 19,
   "id": "b2ab24cb-0256-4e9c-aa7c-e9db85bc187e",
   "metadata": {},
   "outputs": [],
   "source": [
    "from scipy.stats import chi2"
   ]
  },
  {
   "cell_type": "code",
   "execution_count": 20,
   "id": "b290e39c-5c3f-45e1-8426-e15e194454d7",
   "metadata": {},
   "outputs": [
    {
     "data": {
      "text/plain": [
       "[15, 27]"
      ]
     },
     "execution_count": 20,
     "metadata": {},
     "output_type": "execute_result"
    }
   ],
   "source": [
    "n_param = len(model_fits['BJ-TERT'].minimizer_result.params)\n",
    "n_data_points = len(model_fits['BJ-TERT'].model_residual())\n",
    "[n_param, n_data_points]"
   ]
  },
  {
   "cell_type": "markdown",
   "id": "0e43671c-7722-45df-bf5f-431ef35c14d7",
   "metadata": {},
   "source": [
    "Degrees of freedom and $\\chi^2$ critical value"
   ]
  },
  {
   "cell_type": "code",
   "execution_count": 21,
   "id": "b5df371f-f0d8-4d17-a148-b1eb34dceeee",
   "metadata": {},
   "outputs": [
    {
     "data": {
      "text/plain": [
       "[12, 21.02606981748307]"
      ]
     },
     "execution_count": 21,
     "metadata": {},
     "output_type": "execute_result"
    }
   ],
   "source": [
    "model_fit_level = 0.05\n",
    "degrees_freedom = model_fits['BJ-TERT'].minimizer_result.nfree\n",
    "[degrees_freedom, chi2.isf(model_fit_level, degrees_freedom)]"
   ]
  },
  {
   "cell_type": "markdown",
   "id": "f034032a-1507-4e57-b66e-6d11a85e0f24",
   "metadata": {},
   "source": [
    "Sum of squared residuals and model rejection p-values"
   ]
  },
  {
   "cell_type": "code",
   "execution_count": 44,
   "id": "aab099f7-14b2-447b-9d31-2a7654123bc3",
   "metadata": {},
   "outputs": [
    {
     "data": {
      "text/html": [
       "<div>\n",
       "<style scoped>\n",
       "    .dataframe tbody tr th:only-of-type {\n",
       "        vertical-align: middle;\n",
       "    }\n",
       "\n",
       "    .dataframe tbody tr th {\n",
       "        vertical-align: top;\n",
       "    }\n",
       "\n",
       "    .dataframe thead th {\n",
       "        text-align: right;\n",
       "    }\n",
       "</style>\n",
       "<table border=\"1\" class=\"dataframe\">\n",
       "  <thead>\n",
       "    <tr style=\"text-align: right;\">\n",
       "      <th></th>\n",
       "      <th>chi_square</th>\n",
       "      <th>p_value</th>\n",
       "    </tr>\n",
       "  </thead>\n",
       "  <tbody>\n",
       "    <tr>\n",
       "      <th>BJ-TERT</th>\n",
       "      <td>14.535544</td>\n",
       "      <td>0.267823</td>\n",
       "    </tr>\n",
       "    <tr>\n",
       "      <th>BJ-RAS</th>\n",
       "      <td>22.211603</td>\n",
       "      <td>0.035216</td>\n",
       "    </tr>\n",
       "  </tbody>\n",
       "</table>\n",
       "</div>"
      ],
      "text/plain": [
       "         chi_square   p_value\n",
       "BJ-TERT   14.535544  0.267823\n",
       "BJ-RAS    22.211603  0.035216"
      ]
     },
     "execution_count": 44,
     "metadata": {},
     "output_type": "execute_result"
    }
   ],
   "source": [
    "pd.DataFrame(\n",
    "    [\n",
    "        [\n",
    "            model_fits[cell_type].minimizer_result.chisqr,\n",
    "            1 - chi2.cdf(model_fits[cell_type].minimizer_result.chisqr, degrees_freedom)\n",
    "        ]\n",
    "        for cell_type in cell_types\n",
    "    ],\n",
    "    index=cell_types, columns=['chi_square', 'p_value']\n",
    ")"
   ]
  },
  {
   "cell_type": "markdown",
   "id": "cdf9bc70-1c28-4789-a4b7-e5085e89deac",
   "metadata": {},
   "source": [
    "### Plot fitted data"
   ]
  },
  {
   "cell_type": "code",
   "execution_count": 54,
   "id": "7930119c-8991-4060-90df-0216c3b3ddcc",
   "metadata": {},
   "outputs": [],
   "source": [
    "t_simulated = np.arange(0, 24, 0.05)"
   ]
  },
  {
   "cell_type": "code",
   "execution_count": 88,
   "id": "35a5a421-ca7d-44ac-9246-980598bf3aba",
   "metadata": {},
   "outputs": [],
   "source": [
    "def prepend_index_level(df: pd.DataFrame, values, name: str) -> pd.DataFrame:\n",
    "    return df.assign(**{name: values}).set_index(name, append=True).swaplevel()"
   ]
  },
  {
   "cell_type": "code",
   "execution_count": 94,
   "id": "76752c0b-5596-4470-8822-d8ba8c8f1e27",
   "metadata": {},
   "outputs": [],
   "source": [
    "x_simulated = pd.concat(\n",
    "    [\n",
    "        prepend_index_level(\n",
    "            model_fits[cell_type].model_state.simulate_to_pandas(t_simulated),\n",
    "            cell_type, name='cell_type'\n",
    "        )\n",
    "        for cell_type in cell_types\n",
    "    ]\n",
    ")"
   ]
  },
  {
   "cell_type": "code",
   "execution_count": 59,
   "id": "1351aa89-74b8-46de-83e2-b0c9534b4ede",
   "metadata": {},
   "outputs": [],
   "source": [
    "def plot_model_fit(flux_model: FluxModel, x_predicted: pd.DataFrame,\n",
    "                   heavy_fractions: pd.DataFrame, use_log_scale: bool = False) -> None:\n",
    "    x_axis_margin = 0.05\n",
    "    fig, axs = plt.subplots(ncols=len(flux_model.metabolites), figsize=(15,3))\n",
    "    for i, metabolite in enumerate(flux_model.metabolites):\n",
    "        axs[i].plot(x_predicted[metabolite])\n",
    "        if metabolite in heavy_fractions.columns:\n",
    "            axs[i].plot(heavy_fractions[metabolite], '.')\n",
    "        axs[i].set_ylim(-x_axis_margin, 1 + x_axis_margin)\n",
    "        axs[i].set_title(metabolite)\n",
    "        if use_log_scale:\n",
    "            axs[i].set_xscale('log')\n",
    "            axs[i].get_xaxis().set_major_formatter(matplotlib.ticker.ScalarFormatter())\n",
    "        axs[i].set_xticks(heavy_fractions.index)"
   ]
  },
  {
   "cell_type": "code",
   "execution_count": 57,
   "id": "642494a5-7797-4090-a79e-d55bb2dc2c9d",
   "metadata": {},
   "outputs": [],
   "source": [
    "def plot_file_name(cell_type: str, log_scale: bool) -> str:\n",
    "    plot_name = 'met_fitted_data'\n",
    "    if log_scale:\n",
    "        scale_suffix = 'logscale'\n",
    "    else:\n",
    "        scale_suffix = 'linscale'\n",
    "    return \"_\".join([cell_type, plot_name, scale_suffix]) + '.pdf'"
   ]
  },
  {
   "cell_type": "code",
   "execution_count": 96,
   "id": "35e2cd6a-67ee-409a-b6a6-5c620dcd1f08",
   "metadata": {
    "scrolled": true
   },
   "outputs": [
    {
     "data": {
      "image/png": "[encoded data removed]",
      "text/plain": [
       "<Figure size 1500x300 with 7 Axes>"
      ]
     },
     "metadata": {},
     "output_type": "display_data"
    },
    {
     "data": {
      "image/png": "[encoded data removed]",
      "text/plain": [
       "<Figure size 1500x300 with 7 Axes>"
      ]
     },
     "metadata": {},
     "output_type": "display_data"
    },
    {
     "data": {
      "image/png": "[encoded data removed]",
      "text/plain": [
       "<Figure size 1500x300 with 7 Axes>"
      ]
     },
     "metadata": {},
     "output_type": "display_data"
    },
    {
     "data": {
      "image/png": "[encoded data removed]",
      "text/plain": [
       "<Figure size 1500x300 with 7 Axes>"
      ]
     },
     "metadata": {},
     "output_type": "display_data"
    }
   ],
   "source": [
    "for cell_type in cell_types:\n",
    "    for use_log_scale in [False, True]:\n",
    "        plot_model_fit(\n",
    "            flux_model, x_simulated.loc[cell_type], heavy_fraction_mean.loc[cell_type],\n",
    "            use_log_scale=use_log_scale\n",
    "        )\n",
    "        plt.suptitle(cell_type)\n",
    "        plt.tight_layout()\n",
    "        plt.savefig(results_path / 'plots' / plot_file_name(cell_type, use_log_scale))"
   ]
  },
  {
   "cell_type": "markdown",
   "id": "e16a9a59-b4b1-41de-af56-4b7d6a9f6596",
   "metadata": {},
   "source": [
    "### Confidence intervals on estimated net fluxes\n",
    "These are two-sided linearized confidence intervals, based on the parameter covariance from lmfit"
   ]
  },
  {
   "cell_type": "code",
   "execution_count": 101,
   "id": "1d1a3715-9519-4608-9fb6-80086cd62d59",
   "metadata": {},
   "outputs": [],
   "source": [
    "def confidence_intervals_table(model_fit: ModelFit, ci_level: float) -> pd.DataFrame:\n",
    "    fitted_net_fluxes = model_fit.model_state.flux_state.net_fluxes\n",
    "    net_flux_std_err = model_fit.fitted_fluxes_std_err()\n",
    "    ci_scale_factor = norm.isf((1 -ci_level)/2)\n",
    "    return pd.DataFrame(\n",
    "        {\n",
    "            'net': fitted_net_fluxes,\n",
    "            'std err': net_flux_std_err,\n",
    "            'ci_half-width': net_flux_std_err*ci_scale_factor,\n",
    "            'ci_lower': fitted_net_fluxes - net_flux_std_err*ci_scale_factor,\n",
    "            'ci_upper': fitted_net_fluxes + net_flux_std_err*ci_scale_factor,\n",
    "        },\n",
    "        index=pd.Index(flux_model.reactions, name='reaction')\n",
    "    )"
   ]
  },
  {
   "cell_type": "code",
   "execution_count": 104,
   "id": "891e5373-92a5-42d5-b6ae-d2e29a154aaa",
   "metadata": {},
   "outputs": [
    {
     "data": {
      "text/html": [
       "<div>\n",
       "<style scoped>\n",
       "    .dataframe tbody tr th:only-of-type {\n",
       "        vertical-align: middle;\n",
       "    }\n",
       "\n",
       "    .dataframe tbody tr th {\n",
       "        vertical-align: top;\n",
       "    }\n",
       "\n",
       "    .dataframe thead th {\n",
       "        text-align: right;\n",
       "    }\n",
       "</style>\n",
       "<table border=\"1\" class=\"dataframe\">\n",
       "  <thead>\n",
       "    <tr style=\"text-align: right;\">\n",
       "      <th></th>\n",
       "      <th></th>\n",
       "      <th>net</th>\n",
       "      <th>std err</th>\n",
       "      <th>ci_half-width</th>\n",
       "      <th>ci_lower</th>\n",
       "      <th>ci_upper</th>\n",
       "    </tr>\n",
       "    <tr>\n",
       "      <th>cell_type</th>\n",
       "      <th>reaction</th>\n",
       "      <th></th>\n",
       "      <th></th>\n",
       "      <th></th>\n",
       "      <th></th>\n",
       "      <th></th>\n",
       "    </tr>\n",
       "  </thead>\n",
       "  <tbody>\n",
       "    <tr>\n",
       "      <th rowspan=\"4\" valign=\"top\">BJ-TERT</th>\n",
       "      <th>CYSTS</th>\n",
       "      <td>4.574320</td>\n",
       "      <td>0.948401</td>\n",
       "      <td>1.559982</td>\n",
       "      <td>3.014338</td>\n",
       "      <td>6.134301</td>\n",
       "    </tr>\n",
       "    <tr>\n",
       "      <th>METS</th>\n",
       "      <td>149.474427</td>\n",
       "      <td>26.161293</td>\n",
       "      <td>43.031498</td>\n",
       "      <td>106.442930</td>\n",
       "      <td>192.505925</td>\n",
       "    </tr>\n",
       "    <tr>\n",
       "      <th>PROT_OUT</th>\n",
       "      <td>402.991006</td>\n",
       "      <td>91.043820</td>\n",
       "      <td>149.753757</td>\n",
       "      <td>253.237249</td>\n",
       "      <td>552.744763</td>\n",
       "    </tr>\n",
       "    <tr>\n",
       "      <th>SAM_METH</th>\n",
       "      <td>218.014496</td>\n",
       "      <td>25.101319</td>\n",
       "      <td>41.287996</td>\n",
       "      <td>176.726500</td>\n",
       "      <td>259.302491</td>\n",
       "    </tr>\n",
       "    <tr>\n",
       "      <th rowspan=\"4\" valign=\"top\">BJ-RAS</th>\n",
       "      <th>CYSTS</th>\n",
       "      <td>81.822559</td>\n",
       "      <td>107.077428</td>\n",
       "      <td>176.126697</td>\n",
       "      <td>-94.304138</td>\n",
       "      <td>257.949256</td>\n",
       "    </tr>\n",
       "    <tr>\n",
       "      <th>METS</th>\n",
       "      <td>295.359932</td>\n",
       "      <td>139.837333</td>\n",
       "      <td>230.011945</td>\n",
       "      <td>65.347987</td>\n",
       "      <td>525.371876</td>\n",
       "    </tr>\n",
       "    <tr>\n",
       "      <th>PROT_OUT</th>\n",
       "      <td>481.470885</td>\n",
       "      <td>129.452971</td>\n",
       "      <td>212.931189</td>\n",
       "      <td>268.539695</td>\n",
       "      <td>694.402074</td>\n",
       "    </tr>\n",
       "    <tr>\n",
       "      <th>SAM_METH</th>\n",
       "      <td>430.209081</td>\n",
       "      <td>87.217402</td>\n",
       "      <td>143.459861</td>\n",
       "      <td>286.749221</td>\n",
       "      <td>573.668942</td>\n",
       "    </tr>\n",
       "  </tbody>\n",
       "</table>\n",
       "</div>"
      ],
      "text/plain": [
       "                           net     std err  ci_half-width    ci_lower  \\\n",
       "cell_type reaction                                                      \n",
       "BJ-TERT   CYSTS       4.574320    0.948401       1.559982    3.014338   \n",
       "          METS      149.474427   26.161293      43.031498  106.442930   \n",
       "          PROT_OUT  402.991006   91.043820     149.753757  253.237249   \n",
       "          SAM_METH  218.014496   25.101319      41.287996  176.726500   \n",
       "BJ-RAS    CYSTS      81.822559  107.077428     176.126697  -94.304138   \n",
       "          METS      295.359932  139.837333     230.011945   65.347987   \n",
       "          PROT_OUT  481.470885  129.452971     212.931189  268.539695   \n",
       "          SAM_METH  430.209081   87.217402     143.459861  286.749221   \n",
       "\n",
       "                      ci_upper  \n",
       "cell_type reaction              \n",
       "BJ-TERT   CYSTS       6.134301  \n",
       "          METS      192.505925  \n",
       "          PROT_OUT  552.744763  \n",
       "          SAM_METH  259.302491  \n",
       "BJ-RAS    CYSTS     257.949256  \n",
       "          METS      525.371876  \n",
       "          PROT_OUT  694.402074  \n",
       "          SAM_METH  573.668942  "
      ]
     },
     "execution_count": 104,
     "metadata": {},
     "output_type": "execute_result"
    }
   ],
   "source": [
    "ci_table = pd.concat(\n",
    "    [\n",
    "        prepend_index_level(\n",
    "            confidence_intervals_table(model_fits[cell_type], ci_level=0.9).loc[free_reactions],\n",
    "            cell_type, name='cell_type'\n",
    "        )\n",
    "        for cell_type in cell_types\n",
    "    ]\n",
    ")\n",
    "ci_table"
   ]
  },
  {
   "cell_type": "code",
   "execution_count": 130,
   "id": "99569e93-00c1-4fb1-a295-461d9706991a",
   "metadata": {},
   "outputs": [
    {
     "data": {
      "text/html": [
       "<div>\n",
       "<style scoped>\n",
       "    .dataframe tbody tr th:only-of-type {\n",
       "        vertical-align: middle;\n",
       "    }\n",
       "\n",
       "    .dataframe tbody tr th {\n",
       "        vertical-align: top;\n",
       "    }\n",
       "\n",
       "    .dataframe thead th {\n",
       "        text-align: right;\n",
       "    }\n",
       "</style>\n",
       "<table border=\"1\" class=\"dataframe\">\n",
       "  <thead>\n",
       "    <tr style=\"text-align: right;\">\n",
       "      <th></th>\n",
       "      <th>cell_type</th>\n",
       "      <th>reaction</th>\n",
       "      <th>variable</th>\n",
       "      <th>value</th>\n",
       "    </tr>\n",
       "  </thead>\n",
       "  <tbody>\n",
       "    <tr>\n",
       "      <th>0</th>\n",
       "      <td>BJ-RAS</td>\n",
       "      <td>CYSTS</td>\n",
       "      <td>ci_lower</td>\n",
       "      <td>-94.304138</td>\n",
       "    </tr>\n",
       "    <tr>\n",
       "      <th>1</th>\n",
       "      <td>BJ-RAS</td>\n",
       "      <td>CYSTS</td>\n",
       "      <td>ci_upper</td>\n",
       "      <td>257.949256</td>\n",
       "    </tr>\n",
       "    <tr>\n",
       "      <th>2</th>\n",
       "      <td>BJ-RAS</td>\n",
       "      <td>METS</td>\n",
       "      <td>ci_lower</td>\n",
       "      <td>65.347987</td>\n",
       "    </tr>\n",
       "    <tr>\n",
       "      <th>3</th>\n",
       "      <td>BJ-RAS</td>\n",
       "      <td>METS</td>\n",
       "      <td>ci_upper</td>\n",
       "      <td>525.371876</td>\n",
       "    </tr>\n",
       "    <tr>\n",
       "      <th>4</th>\n",
       "      <td>BJ-RAS</td>\n",
       "      <td>PROT_OUT</td>\n",
       "      <td>ci_lower</td>\n",
       "      <td>268.539695</td>\n",
       "    </tr>\n",
       "    <tr>\n",
       "      <th>5</th>\n",
       "      <td>BJ-RAS</td>\n",
       "      <td>PROT_OUT</td>\n",
       "      <td>ci_upper</td>\n",
       "      <td>694.402074</td>\n",
       "    </tr>\n",
       "    <tr>\n",
       "      <th>6</th>\n",
       "      <td>BJ-RAS</td>\n",
       "      <td>SAM_METH</td>\n",
       "      <td>ci_lower</td>\n",
       "      <td>286.749221</td>\n",
       "    </tr>\n",
       "    <tr>\n",
       "      <th>7</th>\n",
       "      <td>BJ-RAS</td>\n",
       "      <td>SAM_METH</td>\n",
       "      <td>ci_upper</td>\n",
       "      <td>573.668942</td>\n",
       "    </tr>\n",
       "    <tr>\n",
       "      <th>8</th>\n",
       "      <td>BJ-TERT</td>\n",
       "      <td>CYSTS</td>\n",
       "      <td>ci_lower</td>\n",
       "      <td>3.014338</td>\n",
       "    </tr>\n",
       "    <tr>\n",
       "      <th>9</th>\n",
       "      <td>BJ-TERT</td>\n",
       "      <td>CYSTS</td>\n",
       "      <td>ci_upper</td>\n",
       "      <td>6.134301</td>\n",
       "    </tr>\n",
       "    <tr>\n",
       "      <th>10</th>\n",
       "      <td>BJ-TERT</td>\n",
       "      <td>METS</td>\n",
       "      <td>ci_lower</td>\n",
       "      <td>106.442930</td>\n",
       "    </tr>\n",
       "    <tr>\n",
       "      <th>11</th>\n",
       "      <td>BJ-TERT</td>\n",
       "      <td>METS</td>\n",
       "      <td>ci_upper</td>\n",
       "      <td>192.505925</td>\n",
       "    </tr>\n",
       "    <tr>\n",
       "      <th>12</th>\n",
       "      <td>BJ-TERT</td>\n",
       "      <td>PROT_OUT</td>\n",
       "      <td>ci_lower</td>\n",
       "      <td>253.237249</td>\n",
       "    </tr>\n",
       "    <tr>\n",
       "      <th>13</th>\n",
       "      <td>BJ-TERT</td>\n",
       "      <td>PROT_OUT</td>\n",
       "      <td>ci_upper</td>\n",
       "      <td>552.744763</td>\n",
       "    </tr>\n",
       "    <tr>\n",
       "      <th>14</th>\n",
       "      <td>BJ-TERT</td>\n",
       "      <td>SAM_METH</td>\n",
       "      <td>ci_lower</td>\n",
       "      <td>176.726500</td>\n",
       "    </tr>\n",
       "    <tr>\n",
       "      <th>15</th>\n",
       "      <td>BJ-TERT</td>\n",
       "      <td>SAM_METH</td>\n",
       "      <td>ci_upper</td>\n",
       "      <td>259.302491</td>\n",
       "    </tr>\n",
       "  </tbody>\n",
       "</table>\n",
       "</div>"
      ],
      "text/plain": [
       "   cell_type  reaction  variable       value\n",
       "0     BJ-RAS     CYSTS  ci_lower  -94.304138\n",
       "1     BJ-RAS     CYSTS  ci_upper  257.949256\n",
       "2     BJ-RAS      METS  ci_lower   65.347987\n",
       "3     BJ-RAS      METS  ci_upper  525.371876\n",
       "4     BJ-RAS  PROT_OUT  ci_lower  268.539695\n",
       "5     BJ-RAS  PROT_OUT  ci_upper  694.402074\n",
       "6     BJ-RAS  SAM_METH  ci_lower  286.749221\n",
       "7     BJ-RAS  SAM_METH  ci_upper  573.668942\n",
       "8    BJ-TERT     CYSTS  ci_lower    3.014338\n",
       "9    BJ-TERT     CYSTS  ci_upper    6.134301\n",
       "10   BJ-TERT      METS  ci_lower  106.442930\n",
       "11   BJ-TERT      METS  ci_upper  192.505925\n",
       "12   BJ-TERT  PROT_OUT  ci_lower  253.237249\n",
       "13   BJ-TERT  PROT_OUT  ci_upper  552.744763\n",
       "14   BJ-TERT  SAM_METH  ci_lower  176.726500\n",
       "15   BJ-TERT  SAM_METH  ci_upper  259.302491"
      ]
     },
     "execution_count": 130,
     "metadata": {},
     "output_type": "execute_result"
    }
   ],
   "source": [
    "# since seaborn (strangely) does not support drawing error bars from specified values,\n",
    "# we provide the (max, min) range as values and plot using median (midrange) and max/min for error bars\n",
    "ci_table_for_seaborn = ci_table[['ci_lower', 'ci_upper']].melt(ignore_index=False).sort_index().reset_index()\n",
    "ci_table_for_seaborn"
   ]
  },
  {
   "cell_type": "code",
   "execution_count": 131,
   "id": "29da510a-abce-4f26-b4c4-167dc8c1fce7",
   "metadata": {},
   "outputs": [
    {
     "data": {
      "text/plain": [
       "<Axes: xlabel='reaction', ylabel='value'>"
      ]
     },
     "execution_count": 131,
     "metadata": {},
     "output_type": "execute_result"
    },
    {
     "data": {
      "image/png": "[encoded data removed]",
      "text/plain": [
       "<Figure size 640x480 with 1 Axes>"
      ]
     },
     "metadata": {},
     "output_type": "display_data"
    }
   ],
   "source": [
    "sns.barplot(\n",
    "    ci_table_for_seaborn,\n",
    "    x='reaction', y='value', hue='cell_type',\n",
    "    estimator=np.median, errorbar=lambda x: [x.min(), x.max()]\n",
    ")"
   ]
  }
 ],
 "metadata": {
  "kernelspec": {
   "display_name": "Python 3 (ipykernel)",
   "language": "python",
   "name": "python3"
  },
  "language_info": {
   "codemirror_mode": {
    "name": "ipython",
    "version": 3
   },
   "file_extension": ".py",
   "mimetype": "text/x-python",
   "name": "python",
   "nbconvert_exporter": "python",
   "pygments_lexer": "ipython3",
   "version": "3.12.4"
  }
 },
 "nbformat": 4,
 "nbformat_minor": 5
}
